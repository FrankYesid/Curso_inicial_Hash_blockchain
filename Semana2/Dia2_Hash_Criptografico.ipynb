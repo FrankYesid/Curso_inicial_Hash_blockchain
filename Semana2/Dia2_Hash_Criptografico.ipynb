{
  "cells": [
    {
      "cell_type": "markdown",
      "metadata": {},
      "source": [
        "# 📅 DÍA 2 — Hash Criptográfico\n\n",
        "**Semana 2: Construye tu primera Blockchain en Python**\n\n",
        "---\n\n",
        "**Duración:** 20 minutos  \n",
        "**Nivel:** Introductorio a Intermedio  \n",
        "**Fecha:** Octubre 2025\n\n",
        "---\n\n"
      ]
    },
    {
      "cell_type": "markdown",
      "metadata": {},
      "source": [
        "# 📅 DÍA 2 — Implementar el cálculo de hash y el bloque génesis\n\n",
        "---\n\n",
        "## 🎯 Objetivo del Día\n\n",
        "Comprender el **funcionamiento de las funciones hash criptográficas** (SHA-256) y su rol fundamental en la seguridad de la blockchain.\n\n",
        "---\n\n",
        "## 📖 Contenido Teórico\n\n",
        "### ¿Qué es una Función Hash?\n\n",
        "Una **función hash** es un algoritmo matemático que transforma cualquier cantidad de datos en una cadena de longitud fija (huella digital). En blockchain usamos **SHA-256** (Secure Hash Algorithm 256-bit).\n\n",
        "### Propiedades Criptográficas del Hash\n\n",
        "1. **Determinístico**: El mismo input siempre produce el mismo output\n",
        "2. **Rápido de calcular**: El hash se genera en milisegundos\n",
        "3. **Efecto avalancha**: Un pequeño cambio en el input cambia completamente el hash\n",
        "4. **Unidireccional**: Imposible obtener el input original desde el hash\n",
        "5. **Resistente a colisiones**: Prácticamente imposible encontrar dos inputs con el mismo hash\n\n",
        "---"
      ]
    },
    {
      "cell_type": "code",
      "execution_count": null,
      "metadata": {},
      "outputs": [],
      "source": [
        "import hashlib\n\n",
        "def calcular_hash(texto):\n",
        "    \"\"\"Calcula el hash SHA-256 de un texto.\"\"\"\n",
        "    return hashlib.sha256(texto.encode()).hexdigest()\n\n",
        "# Demostración de propiedades del hash\n",
        "print(\"=\" * 70)\n",
        "print(\"DEMOSTRACIÓN: PROPIEDADES DE LAS FUNCIONES HASH\")\n",
        "print(\"=\" * 70)\n\n",
        "# 1. Determinístico\n",
        "texto1 = \"Hola Blockchain\"\n",
        "hash1a = calcular_hash(texto1)\n",
        "hash1b = calcular_hash(texto1)\n",
        "print(\"\\n1. DETERMINÍSTICO (mismo input = mismo output)\")\n",
        "print(f\"   Texto: '{texto1}'\")\n",
        "print(f\"   Hash 1: {hash1a}\")\n",
        "print(f\"   Hash 2: {hash1b}\")\n",
        "print(f\"   ¿Son iguales? {hash1a == hash1b}\")\n\n",
        "# 2. Efecto Avalancha\n",
        "texto2 = \"Hola Blockchain!\"\n",
        "hash2 = calcular_hash(texto2)\n",
        "print(\"\\n2. EFECTO AVALANCHA (pequeño cambio = hash totalmente diferente)\")\n",
        "print(f\"   Texto original: '{texto1}'\")\n",
        "print(f\"   Hash original:  {hash1a}\")\n",
        "print(f\"   Texto con '!':  '{texto2}'\")\n",
        "print(f\"   Hash con '!':   {hash2}\")\n",
        "print(f\"   ¿Son diferentes? {hash1a != hash2}\")\n\n",
        "# 3. Longitud fija\n",
        "texto_corto = \"Hi\"\n",
        "texto_largo = \"Este es un texto mucho más largo que contiene mucha más información\"\n",
        "hash_corto = calcular_hash(texto_corto)\n",
        "hash_largo = calcular_hash(texto_largo)\n",
        "print(\"\\n3. LONGITUD FIJA (cualquier input = output de 64 caracteres hex)\")\n",
        "print(f\"   Texto corto: '{texto_corto}'\")\n",
        "print(f\"   Hash: {hash_corto} (longitud: {len(hash_corto)})\")\n",
        "print(f\"   Texto largo: '{texto_largo}'\")\n",
        "print(f\"   Hash: {hash_largo} (longitud: {len(hash_largo)})\")\n\n",
        "print(\"\\n\" + \"=\" * 70)"
      ]
    },
    {
      "cell_type": "markdown",
      "metadata": {},
      "source": [
        "## 📝 Autoevaluación Día 1\n\n",
        "Responde las siguientes preguntas para verificar tu comprensión:\n\n",
        "### Pregunta 1\n",
        "**¿Cuál es el propósito del atributo `previous_hash` en un bloque?**\n\n",
        "a) Almacenar la información del bloque  \n",
        "b) Enlazar el bloque actual con el bloque anterior ✓  \n",
        "c) Calcular el timestamp  \n",
        "d) Identificar el índice del bloque  \n\n",
        "---\n\n",
        "### Pregunta 2\n",
        "**¿Qué método se ejecuta automáticamente al crear un nuevo objeto de la clase Block?**\n\n",
        "a) calculate_hash()  \n",
        "b) __str__()  \n",
        "c) __init__() ✓  \n",
        "d) __main__()  \n\n",
        "---\n\n",
        "### Pregunta 3\n",
        "**¿Por qué el bloque génesis tiene previous_hash = \"0\"?**\n\n",
        "a) Es un error de programación  \n",
        "b) Porque es el primer bloque y no tiene predecesor ✓  \n",
        "c) Para hacer el hash más corto  \n",
        "d) Es un valor temporal que se cambia después  \n\n",
        "---"
      ]
    },
    {
      "cell_type": "markdown",
      "metadata": {},
      "source": [
        "## 💡 Reflexión Pedagógica\n\n",
        "**Has completado el Día 1.** Ahora comprendes:\n\n",
        "- ✅ La estructura básica de un bloque\n",
        "- ✅ Cómo usar clases en Python para modelar conceptos de blockchain\n",
        "- ✅ La importancia del enlace entre bloques mediante `previous_hash`\n\n",
        "**Próximo paso:** En el Día 2 profundizaremos en el cálculo de hash y exploraremos las propiedades criptográficas que hacen segura a la blockchain.\n\n",
        "---"
      ]
    },
    {
      "cell_type": "markdown",
      "metadata": {},
      "source": [
        "# 📅 DÍA 2 — Implementar el cálculo de hash y el bloque génesis\n\n",
        "---\n\n",
        "## 🎯 Objetivo del Día\n\n",
        "Comprender el **funcionamiento de las funciones hash criptográficas** (SHA-256) y su rol fundamental en la seguridad de la blockchain.\n\n",
        "---\n\n",
        "## 📖 Contenido Teórico\n\n",
        "### ¿Qué es una Función Hash?\n\n",
        "Una **función hash** es un algoritmo matemático que transforma cualquier cantidad de datos en una cadena de longitud fija (huella digital). En blockchain usamos **SHA-256** (Secure Hash Algorithm 256-bit).\n\n",
        "### Propiedades Criptográficas del Hash\n\n",
        "1. **Determinístico**: El mismo input siempre produce el mismo output\n",
        "2. **Rápido de calcular**: El hash se genera en milisegundos\n",
        "3. **Efecto avalancha**: Un pequeño cambio en el input cambia completamente el hash\n",
        "4. **Unidireccional**: Imposible obtener el input original desde el hash\n",
        "5. **Resistente a colisiones**: Prácticamente imposible encontrar dos inputs con el mismo hash\n\n",
        "---"
      ]
    },
    {
      "cell_type": "code",
      "execution_count": null,
      "metadata": {},
      "outputs": [],
      "source": [
        "import hashlib\n\n",
        "def calcular_hash(texto):\n",
        "    \"\"\"Calcula el hash SHA-256 de un texto.\"\"\"\n",
        "    return hashlib.sha256(texto.encode()).hexdigest()\n\n",
        "# Demostración de propiedades del hash\n",
        "print(\"=\" * 70)\n",
        "print(\"DEMOSTRACIÓN: PROPIEDADES DE LAS FUNCIONES HASH\")\n",
        "print(\"=\" * 70)\n\n",
        "# 1. Determinístico\n",
        "texto1 = \"Hola Blockchain\"\n",
        "hash1a = calcular_hash(texto1)\n",
        "hash1b = calcular_hash(texto1)\n",
        "print(\"\\n1. DETERMINÍSTICO (mismo input = mismo output)\")\n",
        "print(f\"   Texto: '{texto1}'\")\n",
        "print(f\"   Hash 1: {hash1a}\")\n",
        "print(f\"   Hash 2: {hash1b}\")\n",
        "print(f\"   ¿Son iguales? {hash1a == hash1b}\")\n\n",
        "# 2. Efecto Avalancha\n",
        "texto2 = \"Hola Blockchain!\"\n",
        "hash2 = calcular_hash(texto2)\n",
        "print(\"\\n2. EFECTO AVALANCHA (pequeño cambio = hash totalmente diferente)\")\n",
        "print(f\"   Texto original: '{texto1}'\")\n",
        "print(f\"   Hash original:  {hash1a}\")\n",
        "print(f\"   Texto con '!':  '{texto2}'\")\n",
        "print(f\"   Hash con '!':   {hash2}\")\n",
        "print(f\"   ¿Son diferentes? {hash1a != hash2}\")\n\n",
        "# 3. Longitud fija\n",
        "texto_corto = \"Hi\"\n",
        "texto_largo = \"Este es un texto mucho más largo que contiene mucha más información\"\n",
        "hash_corto = calcular_hash(texto_corto)\n",
        "hash_largo = calcular_hash(texto_largo)\n",
        "print(\"\\n3. LONGITUD FIJA (cualquier input = output de 64 caracteres hex)\")\n",
        "print(f\"   Texto corto: '{texto_corto}'\")\n",
        "print(f\"   Hash: {hash_corto} (longitud: {len(hash_corto)})\")\n",
        "print(f\"   Texto largo: '{texto_largo}'\")\n",
        "print(f\"   Hash: {hash_largo} (longitud: {len(hash_largo)})\")\n\n",
        "print(\"\\n\" + \"=\" * 70)"
      ]
    },
    {
      "cell_type": "markdown",
      "metadata": {},
      "source": [
        "## ✏️ Ejercicio Práctico 2\n\n**Instrucciones:**\n\n1. Crea una función llamada `verificar_integridad_bloque()` que reciba dos bloques consecutivos\n2. La función debe verificar que el `previous_hash` del segundo bloque coincida con el `hash` del primer bloque\n3. Debe retornar `True` si son válidos, `False` si no\n4. Prueba la función con el bloque génesis y el bloque1"
      ]
    },
    {
      "cell_type": "code",
      "execution_count": null,
      "metadata": {},
      "outputs": [],
      "source": [
        "# ESCRIBE TU CÓDIGO AQUÍ\n\ndef verificar_integridad_bloque(bloque_anterior, bloque_actual):\n    # Tu código aquí\n    pass\n\n# Prueba tu función\n"
      ]
    },
    {
      "cell_type": "markdown",
      "metadata": {},
      "source": [
        "### ✅ Solución — No ver hasta intentar"
      ]
    },
    {
      "cell_type": "code",
      "execution_count": null,
      "metadata": {},
      "outputs": [],
      "source": [
        "# SOLUCIÓN\n\ndef verificar_integridad_bloque(bloque_anterior, bloque_actual):\n    return bloque_anterior.hash == bloque_actual.previous_hash\n\n# Pruebas\ngenesis = Block(0, \"Génesis\", \"0\")\nbloque1 = Block(1, \"Transacción 1\", genesis.hash)\nprint(f\"¿Válido? {verificar_integridad_bloque(genesis, bloque1)}\")\n\n# Bloque corrupto\nbloque_corrupto = Block(2, \"Corrupto\", \"hash_falso\")\nprint(f\"¿Válido? {verificar_integridad_bloque(bloque1, bloque_corrupto)}\")"
      ]
    },
    {
      "cell_type": "markdown",
      "metadata": {},
      "source": [
        "## 📝 Autoevaluación Día 2\n\n**P1: ¿Qué significa que una función hash sea determinística?**\n- a) Longitud fija\n- b) Mismo input = mismo output ✓\n- c) Imposible revertir\n- d) Cálculo rápido\n\n**P2: ¿Cuántos caracteres hexadecimales produce SHA-256?**\n- a) 32\n- b) 64 ✓\n- c) 128\n- d) 256\n\n**P3: ¿Qué propiedad hace inmutable la blockchain?**\n- a) Velocidad\n- b) Longitud fija\n- c) Efecto avalancha ✓\n- d) Hexadecimales"
      ]
    },
    {
      "cell_type": "markdown",
      "metadata": {},
      "source": [
        "\n---\n\n",
        "## 📚 Recursos Adicionales\n\n",
        "- **Video:** \"But how does bitcoin actually work?\" - 3Blue1Brown\n",
        "- **Demo interactiva:** https://andersbrownworth.com/blockchain/\n",
        "- **Documentación Python:** https://docs.python.org/3/library/hashlib.html\n\n",
        "---\n\n",
        "**¡Has completado el DÍA 2 — Hash Criptográfico!** 🎉\n\n",
        "Continúa con el siguiente día para seguir construyendo tu blockchain.\n"
      ]
    }
  ],
  "metadata": {
    "kernelspec": {
      "display_name": "Python 3",
      "language": "python",
      "name": "python3"
    },
    "language_info": {
      "codemirror_mode": {
        "name": "ipython",
        "version": 3
      },
      "file_extension": ".py",
      "mimetype": "text/x-python",
      "name": "python",
      "nbconvert_exporter": "python",
      "pygments_lexer": "ipython3",
      "version": "3.8.0"
    }
  },
  "nbformat": 4,
  "nbformat_minor": 4
}