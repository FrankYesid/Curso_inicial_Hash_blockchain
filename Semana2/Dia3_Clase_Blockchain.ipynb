{
  "cells": [
    {
      "cell_type": "markdown",
      "metadata": {},
      "source": [
        "# 📅 DÍA 3 — Clase Blockchain\n\n",
        "**Semana 2: Construye tu primera Blockchain en Python**\n\n",
        "---\n\n",
        "**Duración:** 20 minutos  \n",
        "**Nivel:** Introductorio a Intermedio  \n",
        "**Fecha:** Octubre 2025\n\n",
        "---\n\n"
      ]
    },
    {
      "cell_type": "markdown",
      "metadata": {},
      "source": [
        "# 📅 DÍA 3 — Construir la clase Blockchain\n\n## 🎯 Objetivo\nConstruir la clase que gestiona la cadena completa de bloques.\n\n## 📖 Teoría\n\n### Responsabilidades de Blockchain\n1. Almacenar la cadena de bloques (lista)\n2. Crear el bloque génesis automáticamente\n3. Agregar nuevos bloques\n4. Validar la integridad\n5. Obtener el último bloque\n\n### Estructura de Datos\nUsamos una **lista de Python** para almacenar los bloques en orden secuencial."
      ]
    },
    {
      "cell_type": "code",
      "execution_count": null,
      "metadata": {},
      "outputs": [],
      "source": [
        "import hashlib\nimport datetime\n\nclass Block:\n    def __init__(self, index, data, previous_hash):\n        self.index = index\n        self.timestamp = datetime.datetime.now()\n        self.data = data\n        self.previous_hash = previous_hash\n        self.hash = self.calculate_hash()\n    \n    def calculate_hash(self):\n        content = f\"{self.index}{self.timestamp}{self.data}{self.previous_hash}\"\n        return hashlib.sha256(content.encode()).hexdigest()\n\nclass Blockchain:\n    def __init__(self):\n        \"\"\"Inicializa la blockchain con el bloque génesis.\"\"\"\n        self.chain = [self.create_genesis_block()]\n    \n    def create_genesis_block(self):\n        \"\"\"Crea el primer bloque de la cadena.\"\"\"\n        return Block(0, \"Bloque Génesis\", \"0\")\n    \n    def get_latest_block(self):\n        \"\"\"Retorna el último bloque de la cadena.\"\"\"\n        return self.chain[-1]\n    \n    def add_block(self, data):\n        \"\"\"Agrega un nuevo bloque a la cadena.\"\"\"\n        previous_block = self.get_latest_block()\n        new_index = previous_block.index + 1\n        new_block = Block(new_index, data, previous_block.hash)\n        self.chain.append(new_block)\n        return new_block\n\n# Crear blockchain\nmi_blockchain = Blockchain()\nprint(f\"Blockchain creada con {len(mi_blockchain.chain)} bloque(s)\")\nprint(f\"Génesis hash: {mi_blockchain.get_latest_block().hash}\")"
      ]
    },
    {
      "cell_type": "markdown",
      "metadata": {},
      "source": [
        "## ✏️ Ejercicio 3\nAgrega un método `get_block(index)` que retorne un bloque por su índice, o `None` si no existe."
      ]
    },
    {
      "cell_type": "code",
      "execution_count": null,
      "metadata": {},
      "outputs": [],
      "source": [
        "# ESCRIBE TU CÓDIGO AQUÍ\n"
      ]
    },
    {
      "cell_type": "markdown",
      "metadata": {},
      "source": [
        "### ✅ Solución"
      ]
    },
    {
      "cell_type": "code",
      "execution_count": null,
      "metadata": {},
      "outputs": [],
      "source": [
        "# SOLUCIÓN\nclass Blockchain:\n    def __init__(self):\n        self.chain = [self.create_genesis_block()]\n    \n    def create_genesis_block(self):\n        return Block(0, \"Bloque Génesis\", \"0\")\n    \n    def get_latest_block(self):\n        return self.chain[-1]\n    \n    def add_block(self, data):\n        previous_block = self.get_latest_block()\n        new_block = Block(previous_block.index + 1, data, previous_block.hash)\n        self.chain.append(new_block)\n        return new_block\n    \n    def get_block(self, index):\n        \"\"\"Retorna un bloque por su índice.\"\"\"\n        if 0 <= index < len(self.chain):\n            return self.chain[index]\n        return None\n\nbc = Blockchain()\nbc.add_block(\"TX1\")\nbloque = bc.get_block(1)\nprint(f\"Bloque 1: {bloque.data if bloque else 'No encontrado'}\")"
      ]
    },
    {
      "cell_type": "markdown",
      "metadata": {},
      "source": [
        "## 📝 Autoevaluación Día 3\n\n**P1: ¿Qué estructura usa Blockchain para almacenar bloques?**\n- a) Diccionario\n- b) Lista ✓\n- c) Tupla\n- d) Set\n\n**P2: ¿Cuándo se crea el bloque génesis?**\n- a) Al agregar primer bloque\n- b) En __init__() ✓\n- c) Manualmente\n- d) Al validar\n\n**P3: ¿Qué retorna get_latest_block()?**\n- a) Primer bloque\n- b) Último bloque ✓\n- c) Todos los bloques\n- d) El índice"
      ]
    },
    {
      "cell_type": "markdown",
      "metadata": {},
      "source": [
        "\n---\n\n",
        "## 📚 Recursos Adicionales\n\n",
        "- **Video:** \"But how does bitcoin actually work?\" - 3Blue1Brown\n",
        "- **Demo interactiva:** https://andersbrownworth.com/blockchain/\n",
        "- **Documentación Python:** https://docs.python.org/3/library/hashlib.html\n\n",
        "---\n\n",
        "**¡Has completado el DÍA 3 — Clase Blockchain!** 🎉\n\n",
        "Continúa con el siguiente día para seguir construyendo tu blockchain.\n"
      ]
    }
  ],
  "metadata": {
    "kernelspec": {
      "display_name": "Python 3",
      "language": "python",
      "name": "python3"
    },
    "language_info": {
      "codemirror_mode": {
        "name": "ipython",
        "version": 3
      },
      "file_extension": ".py",
      "mimetype": "text/x-python",
      "name": "python",
      "nbconvert_exporter": "python",
      "pygments_lexer": "ipython3",
      "version": "3.8.0"
    }
  },
  "nbformat": 4,
  "nbformat_minor": 4
}