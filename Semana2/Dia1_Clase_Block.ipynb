{
  "cells": [
    {
      "cell_type": "markdown",
      "metadata": {},
      "source": [
        "# 📅 DÍA 1 — Crear la clase Block\n\n",
        "**Semana 2: Construye tu primera Blockchain en Python**\n\n",
        "---\n\n",
        "**Duración:** 20 minutos  \n",
        "**Nivel:** Introductorio a Intermedio  \n",
        "**Fecha:** Octubre 2025\n\n",
        "---\n\n"
      ]
    },
    {
      "cell_type": "markdown",
      "metadata": {},
      "source": [
        "# 📅 DÍA 1 — Crear la clase `Block`\n",
        "\n",
        "---\n",
        "\n",
        "## 🎯 Objetivo del Día\n",
        "\n",
        "Entender la **estructura programática de un bloque** y cómo definirla usando programación orientada a objetos en Python.\n",
        "\n",
        "---\n",
        "\n",
        "## 📖 Contenido Teórico\n",
        "\n",
        "### ¿Qué es una Clase en Python?\n",
        "\n",
        "Una **clase** es una plantilla o molde que define la estructura y comportamiento de un objeto. En el contexto de blockchain, un **bloque** es un objeto que contiene información específica.\n",
        "\n",
        "### Atributos Esenciales de un Bloque\n",
        "\n",
        "Cada bloque en una blockchain debe contener:\n",
        "\n",
        "1. **`index`**: Posición del bloque en la cadena (número entero)\n",
        "2. **`timestamp`**: Marca temporal de cuándo se creó el bloque\n",
        "3. **`data`**: Información almacenada en el bloque (transacciones, mensajes, etc.)\n",
        "4. **`previous_hash`**: Hash del bloque anterior (enlace con el pasado)\n",
        "5. **`hash`**: Huella digital única del bloque actual\n",
        "\n",
        "### El Método Constructor `__init__`\n",
        "\n",
        "El método `__init__` es un **constructor** que se ejecuta automáticamente cuando creamos un nuevo objeto de la clase. Aquí inicializamos todos los atributos del bloque.\n",
        "\n",
        "### Principio de Encapsulamiento\n",
        "\n",
        "El **encapsulamiento** es un principio de la programación orientada a objetos que consiste en agrupar datos (atributos) y métodos (funciones) relacionados dentro de una misma clase, protegiendo la integridad de los datos.\n",
        "\n",
        "---"
      ]
    },
    {
      "cell_type": "markdown",
      "metadata": {},
      "source": [
        "## 💻 Código de Ejemplo\n",
        "\n",
        "Vamos a crear nuestra primera versión de la clase `Block`:"
      ]
    },
    {
      "cell_type": "code",
      "execution_count": null,
      "metadata": {},
      "outputs": [],
      "source": [
        "import hashlib\n",
        "import datetime\n",
        "\n",
        "class Block:\n",
        "    \"\"\"Clase que representa un bloque individual en la blockchain.\"\"\"\n",
        "    \n",
        "    def __init__(self, index, data, previous_hash):\n",
        "        \"\"\"\n",
        "        Constructor de la clase Block.\n",
        "        \n",
        "        Args:\n",
        "            index (int): Posición del bloque en la cadena\n",
        "            data (str): Información almacenada en el bloque\n",
        "            previous_hash (str): Hash del bloque anterior\n",
        "        \"\"\"\n",
        "        self.index = index\n",
        "        self.timestamp = datetime.datetime.now()\n",
        "        self.data = data\n",
        "        self.previous_hash = previous_hash\n",
        "        self.hash = self.calculate_hash()\n",
        "    \n",
        "    def calculate_hash(self):\n",
        "        \"\"\"\n",
        "        Calcula el hash SHA-256 del bloque.\n",
        "        \n",
        "        Returns:\n",
        "            str: Hash hexadecimal del bloque\n",
        "        \"\"\"\n",
        "        # Concatenamos todos los atributos del bloque\n",
        "        content = f\"{self.index}{self.timestamp}{self.data}{self.previous_hash}\"\n",
        "        # Calculamos el hash SHA-256\n",
        "        return hashlib.sha256(content.encode()).hexdigest()\n",
        "\n",
        "# Crear el primer bloque (Bloque Génesis)\n",
        "genesis_block = Block(0, \"Bloque Génesis\", \"0\")\n",
        "\n",
        "print(\"=\" * 60)\n",
        "print(\"BLOQUE GÉNESIS CREADO\")\n",
        "print(\"=\" * 60)\n",
        "print(f\"Índice: {genesis_block.index}\")\n",
        "print(f\"Timestamp: {genesis_block.timestamp}\")\n",
        "print(f\"Data: {genesis_block.data}\")\n",
        "print(f\"Previous Hash: {genesis_block.previous_hash}\")\n",
        "print(f\"Hash: {genesis_block.hash}\")\n",
        "print(\"=\" * 60)"
      ]
    },
    {
      "cell_type": "markdown",
      "metadata": {},
      "source": [
        "### 🔍 Análisis del Código\n",
        "\n",
        "**Puntos clave:**\n",
        "\n",
        "1. **Importaciones**: Usamos `hashlib` para funciones hash y `datetime` para marcas temporales\n",
        "2. **Método `__init__`**: Inicializa todos los atributos del bloque\n",
        "3. **Método `calculate_hash`**: Genera una huella digital única del bloque\n",
        "4. **Bloque Génesis**: El primer bloque de cualquier blockchain (índice 0, previous_hash = \"0\")\n",
        "\n",
        "---"
      ]
    },
    {
      "cell_type": "markdown",
      "metadata": {},
      "source": [
        "## ✏️ Ejercicio Práctico 1\n",
        "\n",
        "**Instrucciones:**\n",
        "\n",
        "Crea un **segundo bloque** que contenga:\n",
        "- Índice: 1\n",
        "- Data: \"Primera transacción: Alice paga 50 BTC a Bob\"\n",
        "- Previous Hash: El hash del bloque génesis\n",
        "\n",
        "Imprime todos los atributos del nuevo bloque."
      ]
    },
    {
      "cell_type": "code",
      "execution_count": null,
      "metadata": {},
      "outputs": [],
      "source": [
        "# ESCRIBE TU CÓDIGO AQUÍ\n",
        "# Pista: Usa genesis_block.hash para obtener el hash del bloque anterior\n",
        "\n"
      ]
    },
    {
      "cell_type": "markdown",
      "metadata": {},
      "source": [
        "### ✅ Solución — No ver hasta intentar"
      ]
    },
    {
      "cell_type": "code",
      "execution_count": null,
      "metadata": {},
      "outputs": [],
      "source": [
        "# SOLUCIÓN\n",
        "segundo_bloque = Block(1, \"Primera transacción: Alice paga 50 BTC a Bob\", genesis_block.hash)\n",
        "\n",
        "print(\"=\" * 60)\n",
        "print(\"SEGUNDO BLOQUE CREADO\")\n",
        "print(\"=\" * 60)\n",
        "print(f\"Índice: {segundo_bloque.index}\")\n",
        "print(f\"Timestamp: {segundo_bloque.timestamp}\")\n",
        "print(f\"Data: {segundo_bloque.data}\")\n",
        "print(f\"Previous Hash: {segundo_bloque.previous_hash}\")\n",
        "print(f\"Hash: {segundo_bloque.hash}\")\n",
        "print(\"=\" * 60)\n",
        "\n",
        "# Verificar el enlace\n",
        "print(\"\\n¿Está correctamente enlazado?\")\n",
        "print(f\"Hash del génesis: {genesis_block.hash}\")\n",
        "print(f\"Previous hash del segundo: {segundo_bloque.previous_hash}\")\n",
        "print(f\"¿Coinciden? {genesis_block.hash == segundo_bloque.previous_hash}\")"
      ]
    },
    {
      "cell_type": "markdown",
      "metadata": {},
      "source": [
        "## 📝 Autoevaluación Día 1\n\n",
        "Responde las siguientes preguntas para verificar tu comprensión:\n\n",
        "### Pregunta 1\n",
        "**¿Cuál es el propósito del atributo `previous_hash` en un bloque?**\n\n",
        "a) Almacenar la información del bloque  \n",
        "b) Enlazar el bloque actual con el bloque anterior ✓  \n",
        "c) Calcular el timestamp  \n",
        "d) Identificar el índice del bloque  \n\n",
        "---\n\n",
        "### Pregunta 2\n",
        "**¿Qué método se ejecuta automáticamente al crear un nuevo objeto de la clase Block?**\n\n",
        "a) calculate_hash()  \n",
        "b) __str__()  \n",
        "c) __init__() ✓  \n",
        "d) __main__()  \n\n",
        "---\n\n",
        "### Pregunta 3\n",
        "**¿Por qué el bloque génesis tiene previous_hash = \"0\"?**\n\n",
        "a) Es un error de programación  \n",
        "b) Porque es el primer bloque y no tiene predecesor ✓  \n",
        "c) Para hacer el hash más corto  \n",
        "d) Es un valor temporal que se cambia después  \n\n",
        "---"
      ]
    },
    {
      "cell_type": "markdown",
      "metadata": {},
      "source": [
        "## 💡 Reflexión Pedagógica\n\n",
        "**Has completado el Día 1.** Ahora comprendes:\n\n",
        "- ✅ La estructura básica de un bloque\n",
        "- ✅ Cómo usar clases en Python para modelar conceptos de blockchain\n",
        "- ✅ La importancia del enlace entre bloques mediante `previous_hash`\n\n",
        "**Próximo paso:** En el Día 2 profundizaremos en el cálculo de hash y exploraremos las propiedades criptográficas que hacen segura a la blockchain.\n\n",
        "---"
      ]
    },
    {
      "cell_type": "markdown",
      "metadata": {},
      "source": [
        "\n---\n\n",
        "## 📚 Recursos Adicionales\n\n",
        "- **Video:** \"But how does bitcoin actually work?\" - 3Blue1Brown\n",
        "- **Demo interactiva:** https://andersbrownworth.com/blockchain/\n",
        "- **Documentación Python:** https://docs.python.org/3/library/hashlib.html\n\n",
        "---\n\n",
        "**¡Has completado el DÍA 1 — Crear la clase Block!** 🎉\n\n",
        "Continúa con el siguiente día para seguir construyendo tu blockchain.\n"
      ]
    }
  ],
  "metadata": {
    "kernelspec": {
      "display_name": "Python 3",
      "language": "python",
      "name": "python3"
    },
    "language_info": {
      "codemirror_mode": {
        "name": "ipython",
        "version": 3
      },
      "file_extension": ".py",
      "mimetype": "text/x-python",
      "name": "python",
      "nbconvert_exporter": "python",
      "pygments_lexer": "ipython3",
      "version": "3.8.0"
    }
  },
  "nbformat": 4,
  "nbformat_minor": 4
}