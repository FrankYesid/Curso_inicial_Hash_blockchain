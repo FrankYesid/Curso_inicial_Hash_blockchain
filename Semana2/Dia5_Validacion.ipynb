{
  "cells": [
    {
      "cell_type": "markdown",
      "metadata": {},
      "source": [
        "# 📅 DÍA 5 — Validación\n\n",
        "**Semana 2: Construye tu primera Blockchain en Python**\n\n",
        "---\n\n",
        "**Duración:** 20 minutos  \n",
        "**Nivel:** Introductorio a Intermedio  \n",
        "**Fecha:** Octubre 2025\n\n",
        "---\n\n"
      ]
    },
    {
      "cell_type": "markdown",
      "metadata": {},
      "source": [
        "# 📅 DÍA 5 — Validar la integridad de la cadena\n\n## 🎯 Objetivo\nImplementar validación completa de la blockchain para detectar manipulaciones.\n\n## 📖 Teoría\n\n### Validaciones Necesarias\n1. **Hash interno**: Verificar que el hash calculado coincida con el almacenado\n2. **Enlace**: Verificar que previous_hash coincida con hash anterior\n3. **Índices**: Verificar secuencia correcta\n4. **Génesis**: Verificar que el primer bloque sea válido\n\n### Inmutabilidad\nCualquier modificación en un bloque rompe la cadena, haciendo evidente la manipulación."
      ]
    },
    {
      "cell_type": "code",
      "execution_count": null,
      "metadata": {},
      "outputs": [],
      "source": [
        "import hashlib\nimport datetime\n\nclass Block:\n    def __init__(self, index, data, previous_hash):\n        self.index = index\n        self.timestamp = datetime.datetime.now()\n        self.data = data\n        self.previous_hash = previous_hash\n        self.hash = self.calculate_hash()\n    \n    def calculate_hash(self):\n        content = f\"{self.index}{self.timestamp}{self.data}{self.previous_hash}\"\n        return hashlib.sha256(content.encode()).hexdigest()\n    \n    def is_valid_hash(self):\n        \"\"\"Verifica que el hash almacenado sea correcto.\"\"\"\n        return self.hash == self.calculate_hash()\n\nclass Blockchain:\n    def __init__(self):\n        self.chain = [self.create_genesis_block()]\n    \n    def create_genesis_block(self):\n        return Block(0, \"Bloque Génesis\", \"0\")\n    \n    def get_latest_block(self):\n        return self.chain[-1]\n    \n    def add_block(self, data):\n        previous_block = self.get_latest_block()\n        new_block = Block(previous_block.index + 1, data, previous_block.hash)\n        self.chain.append(new_block)\n        return new_block\n    \n    def is_chain_valid(self):\n        \"\"\"Valida la integridad completa de la blockchain.\"\"\"\n        # Validar bloque génesis\n        if self.chain[0].previous_hash != \"0\":\n            print(\"Error: Bloque génesis inválido\")\n            return False\n        \n        # Validar cada bloque\n        for i in range(1, len(self.chain)):\n            current_block = self.chain[i]\n            previous_block = self.chain[i-1]\n            \n            # Verificar hash interno\n            if not current_block.is_valid_hash():\n                print(f\"Error: Hash inválido en bloque #{i}\")\n                return False\n            \n            # Verificar enlace\n            if current_block.previous_hash != previous_block.hash:\n                print(f\"Error: Enlace roto en bloque #{i}\")\n                return False\n            \n            # Verificar índice\n            if current_block.index != previous_block.index + 1:\n                print(f\"Error: Índice incorrecto en bloque #{i}\")\n                return False\n        \n        print(\"Blockchain válida\")\n        return True\n\n# Prueba 1: Blockchain válida\nprint(\"=\"*60)\nprint(\"PRUEBA 1: Blockchain válida\")\nprint(\"=\"*60)\nbc = Blockchain()\nbc.add_block(\"TX1\")\nbc.add_block(\"TX2\")\nbc.is_chain_valid()\n\n# Prueba 2: Blockchain corrupta\nprint(\"\\n\" + \"=\"*60)\nprint(\"PRUEBA 2: Blockchain corrupta\")\nprint(\"=\"*60)\nbc2 = Blockchain()\nbc2.add_block(\"TX1\")\nbc2.add_block(\"TX2\")\nbc2.chain[1].data = \"Datos modificados\"\nbc2.is_chain_valid()"
      ]
    },
    {
      "cell_type": "markdown",
      "metadata": {},
      "source": [
        "## ✏️ Ejercicio 5\nAgrega un método `find_tampering()` que retorne una lista de índices de bloques corruptos."
      ]
    },
    {
      "cell_type": "code",
      "execution_count": null,
      "metadata": {},
      "outputs": [],
      "source": [
        "# ESCRIBE TU CÓDIGO AQUÍ\n"
      ]
    },
    {
      "cell_type": "markdown",
      "metadata": {},
      "source": [
        "### ✅ Solución"
      ]
    },
    {
      "cell_type": "code",
      "execution_count": null,
      "metadata": {},
      "outputs": [],
      "source": [
        "# SOLUCIÓN\nclass Blockchain:\n    def __init__(self):\n        self.chain = [self.create_genesis_block()]\n    \n    def create_genesis_block(self):\n        return Block(0, \"Bloque Génesis\", \"0\")\n    \n    def get_latest_block(self):\n        return self.chain[-1]\n    \n    def add_block(self, data):\n        previous_block = self.get_latest_block()\n        new_block = Block(previous_block.index + 1, data, previous_block.hash)\n        self.chain.append(new_block)\n        return new_block\n    \n    def find_tampering(self):\n        \"\"\"Encuentra bloques corruptos.\"\"\"\n        corrupted = []\n        for i in range(1, len(self.chain)):\n            current = self.chain[i]\n            previous = self.chain[i-1]\n            \n            if not current.is_valid_hash():\n                corrupted.append(i)\n            elif current.previous_hash != previous.hash:\n                corrupted.append(i)\n        \n        return corrupted\n\nbc = Blockchain()\nbc.add_block(\"TX1\")\nbc.add_block(\"TX2\")\nbc.add_block(\"TX3\")\nbc.chain[2].data = \"Corrupto\"\nprint(f\"Bloques corruptos: {bc.find_tampering()}\")"
      ]
    },
    {
      "cell_type": "markdown",
      "metadata": {},
      "source": [
        "## 📝 Autoevaluación Día 5\n\n**P1: ¿Qué valida is_valid_hash()?**\n- a) Enlace con anterior\n- b) Hash calculado = hash almacenado ✓\n- c) Índice correcto\n- d) Timestamp\n\n**P2: ¿Qué pasa si modificamos data de un bloque?**\n- a) Nada\n- b) Hash calculado difiere del almacenado ✓\n- c) Se actualiza automáticamente\n- d) Solo afecta ese bloque\n\n**P3: ¿Por qué validar desde bloque 1?**\n- a) Error de código\n- b) Génesis no tiene anterior ✓\n- c) Optimización\n- d) Convención"
      ]
    },
    {
      "cell_type": "markdown",
      "metadata": {},
      "source": [
        "\n---\n\n",
        "## 📚 Recursos Adicionales\n\n",
        "- **Video:** \"But how does bitcoin actually work?\" - 3Blue1Brown\n",
        "- **Demo interactiva:** https://andersbrownworth.com/blockchain/\n",
        "- **Documentación Python:** https://docs.python.org/3/library/hashlib.html\n\n",
        "---\n\n",
        "**¡Has completado el DÍA 5 — Validación!** 🎉\n\n",
        "Continúa con el siguiente día para seguir construyendo tu blockchain.\n"
      ]
    }
  ],
  "metadata": {
    "kernelspec": {
      "display_name": "Python 3",
      "language": "python",
      "name": "python3"
    },
    "language_info": {
      "codemirror_mode": {
        "name": "ipython",
        "version": 3
      },
      "file_extension": ".py",
      "mimetype": "text/x-python",
      "name": "python",
      "nbconvert_exporter": "python",
      "pygments_lexer": "ipython3",
      "version": "3.8.0"
    }
  },
  "nbformat": 4,
  "nbformat_minor": 4
}