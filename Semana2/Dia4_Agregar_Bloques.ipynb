{
  "cells": [
    {
      "cell_type": "markdown",
      "metadata": {},
      "source": [
        "# 📅 DÍA 4 — Agregar Bloques\n\n",
        "**Semana 2: Construye tu primera Blockchain en Python**\n\n",
        "---\n\n",
        "**Duración:** 20 minutos  \n",
        "**Nivel:** Introductorio a Intermedio  \n",
        "**Fecha:** Octubre 2025\n\n",
        "---\n\n"
      ]
    },
    {
      "cell_type": "markdown",
      "metadata": {},
      "source": [
        "# 📅 DÍA 4 — Agregar bloques y enlazarlos\n\n## 🎯 Objetivo\nImplementar la lógica para agregar bloques de forma segura manteniendo la integridad.\n\n## 📖 Teoría\n\n### Proceso de Agregar Bloques\n1. Obtener el último bloque de la cadena\n2. Calcular el nuevo índice (índice anterior + 1)\n3. Obtener el hash del bloque anterior\n4. Crear el nuevo bloque con estos datos\n5. Agregar el nuevo bloque a la cadena\n\n### Enlace Criptográfico\nCada bloque contiene el hash del anterior, creando una cadena inmutable."
      ]
    },
    {
      "cell_type": "code",
      "execution_count": null,
      "metadata": {},
      "outputs": [],
      "source": [
        "import hashlib\nimport datetime\n\nclass Block:\n    def __init__(self, index, data, previous_hash):\n        self.index = index\n        self.timestamp = datetime.datetime.now()\n        self.data = data\n        self.previous_hash = previous_hash\n        self.hash = self.calculate_hash()\n    \n    def calculate_hash(self):\n        content = f\"{self.index}{self.timestamp}{self.data}{self.previous_hash}\"\n        return hashlib.sha256(content.encode()).hexdigest()\n    \n    def __str__(self):\n        return f\"Block #{self.index} | Data: {self.data} | Hash: {self.hash[:16]}...\"\n\nclass Blockchain:\n    def __init__(self):\n        self.chain = [self.create_genesis_block()]\n    \n    def create_genesis_block(self):\n        return Block(0, \"Bloque Génesis\", \"0\")\n    \n    def get_latest_block(self):\n        return self.chain[-1]\n    \n    def add_block(self, data):\n        previous_block = self.get_latest_block()\n        new_block = Block(previous_block.index + 1, data, previous_block.hash)\n        self.chain.append(new_block)\n        print(f\"Bloque #{new_block.index} agregado\")\n        return new_block\n    \n    def display_chain(self):\n        print(\"\\n\" + \"=\"*60)\n        print(\"BLOCKCHAIN COMPLETA\")\n        print(\"=\"*60)\n        for block in self.chain:\n            print(block)\n        print(\"=\"*60 + \"\\n\")\n\n# Crear y usar blockchain\nbc = Blockchain()\nbc.add_block(\"Alice -> Bob: 10 BTC\")\nbc.add_block(\"Bob -> Charlie: 5 BTC\")\nbc.add_block(\"Charlie -> Alice: 3 BTC\")\nbc.display_chain()"
      ]
    },
    {
      "cell_type": "markdown",
      "metadata": {},
      "source": [
        "## ✏️ Ejercicio 4\nAgrega un método `get_chain_length()` que retorne el número total de bloques en la cadena."
      ]
    },
    {
      "cell_type": "code",
      "execution_count": null,
      "metadata": {},
      "outputs": [],
      "source": [
        "# ESCRIBE TU CÓDIGO AQUÍ\n"
      ]
    },
    {
      "cell_type": "markdown",
      "metadata": {},
      "source": [
        "### ✅ Solución"
      ]
    },
    {
      "cell_type": "code",
      "execution_count": null,
      "metadata": {},
      "outputs": [],
      "source": [
        "# SOLUCIÓN\nclass Blockchain:\n    def __init__(self):\n        self.chain = [self.create_genesis_block()]\n    \n    def create_genesis_block(self):\n        return Block(0, \"Bloque Génesis\", \"0\")\n    \n    def get_latest_block(self):\n        return self.chain[-1]\n    \n    def add_block(self, data):\n        previous_block = self.get_latest_block()\n        new_block = Block(previous_block.index + 1, data, previous_block.hash)\n        self.chain.append(new_block)\n        return new_block\n    \n    def get_chain_length(self):\n        \"\"\"Retorna el número de bloques en la cadena.\"\"\"\n        return len(self.chain)\n\nbc = Blockchain()\nbc.add_block(\"TX1\")\nbc.add_block(\"TX2\")\nprint(f\"Longitud: {bc.get_chain_length()} bloques\")"
      ]
    },
    {
      "cell_type": "markdown",
      "metadata": {},
      "source": [
        "## 📝 Autoevaluación Día 4\n\n**P1: ¿Qué información necesita un nuevo bloque?**\n- a) Solo data\n- b) Index, data, previous_hash ✓\n- c) Solo hash\n- d) Timestamp manual\n\n**P2: ¿Cómo se calcula el índice del nuevo bloque?**\n- a) Aleatorio\n- b) Índice anterior + 1 ✓\n- c) Longitud de data\n- d) Timestamp\n\n**P3: ¿Qué pasa si modificamos un bloque antiguo?**\n- a) Nada\n- b) Se rompe la cadena ✓\n- c) Se recalcula automáticamente\n- d) Solo afecta ese bloque"
      ]
    },
    {
      "cell_type": "markdown",
      "metadata": {},
      "source": [
        "\n---\n\n",
        "## 📚 Recursos Adicionales\n\n",
        "- **Video:** \"But how does bitcoin actually work?\" - 3Blue1Brown\n",
        "- **Demo interactiva:** https://andersbrownworth.com/blockchain/\n",
        "- **Documentación Python:** https://docs.python.org/3/library/hashlib.html\n\n",
        "---\n\n",
        "**¡Has completado el DÍA 4 — Agregar Bloques!** 🎉\n\n",
        "Continúa con el siguiente día para seguir construyendo tu blockchain.\n"
      ]
    }
  ],
  "metadata": {
    "kernelspec": {
      "display_name": "Python 3",
      "language": "python",
      "name": "python3"
    },
    "language_info": {
      "codemirror_mode": {
        "name": "ipython",
        "version": 3
      },
      "file_extension": ".py",
      "mimetype": "text/x-python",
      "name": "python",
      "nbconvert_exporter": "python",
      "pygments_lexer": "ipython3",
      "version": "3.8.0"
    }
  },
  "nbformat": 4,
  "nbformat_minor": 4
}