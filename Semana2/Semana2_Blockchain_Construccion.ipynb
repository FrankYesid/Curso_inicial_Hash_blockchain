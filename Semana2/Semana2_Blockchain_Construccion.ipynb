{
  "cells": [
    {
      "cell_type": "markdown",
      "metadata": {},
      "source": [
        "# 🔗 SEMANA 2: Construye tu primera Blockchain en Python\n",
        "\n",
        "---\n",
        "\n",
        "## 📋 Información del Curso\n",
        "\n",
        "**Duración:** 5 días (20 minutos por día)  \n",
        "**Nivel:** Introductorio a Intermedio  \n",
        "**Fecha:** Octubre 2025  \n",
        "**Prerequisitos:** Conocimientos básicos de Python (variables, funciones, clases)\n",
        "\n",
        "---\n",
        "\n",
        "## 🎯 Objetivos de la Semana\n",
        "\n",
        "Al finalizar esta semana, serás capaz de:\n",
        "\n",
        "1. ✅ **Diseñar y crear** la clase `Block` con todos sus atributos esenciales\n",
        "2. ✅ **Implementar** funciones de hash criptográfico (SHA-256)\n",
        "3. ✅ **Construir** la clase `Blockchain` para gestionar la cadena de bloques\n",
        "4. ✅ **Agregar bloques** de forma segura manteniendo la integridad\n",
        "5. ✅ **Validar** la integridad completa de la blockchain\n",
        "\n",
        "---\n",
        "\n",
        "## 📚 Estructura del Contenido\n",
        "\n",
        "- **Día 1:** Crear la clase `Block`\n",
        "- **Día 2:** Implementar el cálculo de hash y el bloque génesis\n",
        "- **Día 3:** Construir la clase `Blockchain`\n",
        "- **Día 4:** Agregar bloques y enlazarlos\n",
        "- **Día 5:** Validar la integridad de la cadena\n",
        "\n",
        "---"
      ]
    },
    {
      "cell_type": "markdown",
      "metadata": {},
      "source": [
        "# 📅 DÍA 1 — Crear la clase `Block`\n",
        "\n",
        "---\n",
        "\n",
        "## 🎯 Objetivo del Día\n",
        "\n",
        "Entender la **estructura programática de un bloque** y cómo definirla usando programación orientada a objetos en Python.\n",
        "\n",
        "---\n",
        "\n",
        "## 📖 Contenido Teórico\n",
        "\n",
        "### ¿Qué es una Clase en Python?\n",
        "\n",
        "Una **clase** es una plantilla o molde que define la estructura y comportamiento de un objeto. En el contexto de blockchain, un **bloque** es un objeto que contiene información específica.\n",
        "\n",
        "### Atributos Esenciales de un Bloque\n",
        "\n",
        "Cada bloque en una blockchain debe contener:\n",
        "\n",
        "1. **`index`**: Posición del bloque en la cadena (número entero)\n",
        "2. **`timestamp`**: Marca temporal de cuándo se creó el bloque\n",
        "3. **`data`**: Información almacenada en el bloque (transacciones, mensajes, etc.)\n",
        "4. **`previous_hash`**: Hash del bloque anterior (enlace con el pasado)\n",
        "5. **`hash`**: Huella digital única del bloque actual\n",
        "\n",
        "### El Método Constructor `__init__`\n",
        "\n",
        "El método `__init__` es un **constructor** que se ejecuta automáticamente cuando creamos un nuevo objeto de la clase. Aquí inicializamos todos los atributos del bloque.\n",
        "\n",
        "### Principio de Encapsulamiento\n",
        "\n",
        "El **encapsulamiento** es un principio de la programación orientada a objetos que consiste en agrupar datos (atributos) y métodos (funciones) relacionados dentro de una misma clase, protegiendo la integridad de los datos.\n",
        "\n",
        "---"
      ]
    },
    {
      "cell_type": "markdown",
      "metadata": {},
      "source": [
        "## 💻 Código de Ejemplo\n",
        "\n",
        "Vamos a crear nuestra primera versión de la clase `Block`:"
      ]
    },
    {
      "cell_type": "code",
      "execution_count": null,
      "metadata": {},
      "outputs": [],
      "source": [
        "import hashlib\n",
        "import datetime\n",
        "\n",
        "class Block:\n",
        "    \"\"\"Clase que representa un bloque individual en la blockchain.\"\"\"\n",
        "    \n",
        "    def __init__(self, index, data, previous_hash):\n",
        "        \"\"\"\n",
        "        Constructor de la clase Block.\n",
        "        \n",
        "        Args:\n",
        "            index (int): Posición del bloque en la cadena\n",
        "            data (str): Información almacenada en el bloque\n",
        "            previous_hash (str): Hash del bloque anterior\n",
        "        \"\"\"\n",
        "        self.index = index\n",
        "        self.timestamp = datetime.datetime.now()\n",
        "        self.data = data\n",
        "        self.previous_hash = previous_hash\n",
        "        self.hash = self.calculate_hash()\n",
        "    \n",
        "    def calculate_hash(self):\n",
        "        \"\"\"\n",
        "        Calcula el hash SHA-256 del bloque.\n",
        "        \n",
        "        Returns:\n",
        "            str: Hash hexadecimal del bloque\n",
        "        \"\"\"\n",
        "        # Concatenamos todos los atributos del bloque\n",
        "        content = f\"{self.index}{self.timestamp}{self.data}{self.previous_hash}\"\n",
        "        # Calculamos el hash SHA-256\n",
        "        return hashlib.sha256(content.encode()).hexdigest()\n",
        "\n",
        "# Crear el primer bloque (Bloque Génesis)\n",
        "genesis_block = Block(0, \"Bloque Génesis\", \"0\")\n",
        "\n",
        "print(\"=\" * 60)\n",
        "print(\"BLOQUE GÉNESIS CREADO\")\n",
        "print(\"=\" * 60)\n",
        "print(f\"Índice: {genesis_block.index}\")\n",
        "print(f\"Timestamp: {genesis_block.timestamp}\")\n",
        "print(f\"Data: {genesis_block.data}\")\n",
        "print(f\"Previous Hash: {genesis_block.previous_hash}\")\n",
        "print(f\"Hash: {genesis_block.hash}\")\n",
        "print(\"=\" * 60)"
      ]
    },
    {
      "cell_type": "markdown",
      "metadata": {},
      "source": [
        "### 🔍 Análisis del Código\n",
        "\n",
        "**Puntos clave:**\n",
        "\n",
        "1. **Importaciones**: Usamos `hashlib` para funciones hash y `datetime` para marcas temporales\n",
        "2. **Método `__init__`**: Inicializa todos los atributos del bloque\n",
        "3. **Método `calculate_hash`**: Genera una huella digital única del bloque\n",
        "4. **Bloque Génesis**: El primer bloque de cualquier blockchain (índice 0, previous_hash = \"0\")\n",
        "\n",
        "---"
      ]
    },
    {
      "cell_type": "markdown",
      "metadata": {},
      "source": [
        "## ✏️ Ejercicio Práctico 1\n",
        "\n",
        "**Instrucciones:**\n",
        "\n",
        "Crea un **segundo bloque** que contenga:\n",
        "- Índice: 1\n",
        "- Data: \"Primera transacción: Alice paga 50 BTC a Bob\"\n",
        "- Previous Hash: El hash del bloque génesis\n",
        "\n",
        "Imprime todos los atributos del nuevo bloque."
      ]
    },
    {
      "cell_type": "code",
      "execution_count": null,
      "metadata": {},
      "outputs": [],
      "source": [
        "# ESCRIBE TU CÓDIGO AQUÍ\n",
        "# Pista: Usa genesis_block.hash para obtener el hash del bloque anterior\n",
        "\n"
      ]
    },
    {
      "cell_type": "markdown",
      "metadata": {},
      "source": [
        "### ✅ Solución — No ver hasta intentar"
      ]
    },
    {
      "cell_type": "code",
      "execution_count": null,
      "metadata": {},
      "outputs": [],
      "source": [
        "# SOLUCIÓN\n",
        "segundo_bloque = Block(1, \"Primera transacción: Alice paga 50 BTC a Bob\", genesis_block.hash)\n",
        "\n",
        "print(\"=\" * 60)\n",
        "print(\"SEGUNDO BLOQUE CREADO\")\n",
        "print(\"=\" * 60)\n",
        "print(f\"Índice: {segundo_bloque.index}\")\n",
        "print(f\"Timestamp: {segundo_bloque.timestamp}\")\n",
        "print(f\"Data: {segundo_bloque.data}\")\n",
        "print(f\"Previous Hash: {segundo_bloque.previous_hash}\")\n",
        "print(f\"Hash: {segundo_bloque.hash}\")\n",
        "print(\"=\" * 60)\n",
        "\n",
        "# Verificar el enlace\n",
        "print(\"\\n¿Está correctamente enlazado?\")\n",
        "print(f\"Hash del génesis: {genesis_block.hash}\")\n",
        "print(f\"Previous hash del segundo: {segundo_bloque.previous_hash}\")\n",
        "print(f\"¿Coinciden? {genesis_block.hash == segundo_bloque.previous_hash}\")"
      ]
    },
    {
      "cell_type": "markdown",
      "metadata": {},
      "source": [
        "## 📝 Autoevaluación Día 1\n\n",
        "Responde las siguientes preguntas para verificar tu comprensión:\n\n",
        "### Pregunta 1\n",
        "**¿Cuál es el propósito del atributo `previous_hash` en un bloque?**\n\n",
        "a) Almacenar la información del bloque  \n",
        "b) Enlazar el bloque actual con el bloque anterior ✓  \n",
        "c) Calcular el timestamp  \n",
        "d) Identificar el índice del bloque  \n\n",
        "---\n\n",
        "### Pregunta 2\n",
        "**¿Qué método se ejecuta automáticamente al crear un nuevo objeto de la clase Block?**\n\n",
        "a) calculate_hash()  \n",
        "b) __str__()  \n",
        "c) __init__() ✓  \n",
        "d) __main__()  \n\n",
        "---\n\n",
        "### Pregunta 3\n",
        "**¿Por qué el bloque génesis tiene previous_hash = \"0\"?**\n\n",
        "a) Es un error de programación  \n",
        "b) Porque es el primer bloque y no tiene predecesor ✓  \n",
        "c) Para hacer el hash más corto  \n",
        "d) Es un valor temporal que se cambia después  \n\n",
        "---"
      ]
    },
    {
      "cell_type": "markdown",
      "metadata": {},
      "source": [
        "## 💡 Reflexión Pedagógica\n\n",
        "**Has completado el Día 1.** Ahora comprendes:\n\n",
        "- ✅ La estructura básica de un bloque\n",
        "- ✅ Cómo usar clases en Python para modelar conceptos de blockchain\n",
        "- ✅ La importancia del enlace entre bloques mediante `previous_hash`\n\n",
        "**Próximo paso:** En el Día 2 profundizaremos en el cálculo de hash y exploraremos las propiedades criptográficas que hacen segura a la blockchain.\n\n",
        "---"
      ]
    },
    {
      "cell_type": "markdown",
      "metadata": {},
      "source": [
        "# 📅 DÍA 2 — Implementar el cálculo de hash y el bloque génesis\n\n",
        "---\n\n",
        "## 🎯 Objetivo del Día\n\n",
        "Comprender el **funcionamiento de las funciones hash criptográficas** (SHA-256) y su rol fundamental en la seguridad de la blockchain.\n\n",
        "---\n\n",
        "## 📖 Contenido Teórico\n\n",
        "### ¿Qué es una Función Hash?\n\n",
        "Una **función hash** es un algoritmo matemático que transforma cualquier cantidad de datos en una cadena de longitud fija (huella digital). En blockchain usamos **SHA-256** (Secure Hash Algorithm 256-bit).\n\n",
        "### Propiedades Criptográficas del Hash\n\n",
        "1. **Determinístico**: El mismo input siempre produce el mismo output\n",
        "2. **Rápido de calcular**: El hash se genera en milisegundos\n",
        "3. **Efecto avalancha**: Un pequeño cambio en el input cambia completamente el hash\n",
        "4. **Unidireccional**: Imposible obtener el input original desde el hash\n",
        "5. **Resistente a colisiones**: Prácticamente imposible encontrar dos inputs con el mismo hash\n\n",
        "---"
      ]
    },
    {
      "cell_type": "code",
      "execution_count": null,
      "metadata": {},
      "outputs": [],
      "source": [
        "import hashlib\n\n",
        "def calcular_hash(texto):\n",
        "    \"\"\"Calcula el hash SHA-256 de un texto.\"\"\"\n",
        "    return hashlib.sha256(texto.encode()).hexdigest()\n\n",
        "# Demostración de propiedades del hash\n",
        "print(\"=\" * 70)\n",
        "print(\"DEMOSTRACIÓN: PROPIEDADES DE LAS FUNCIONES HASH\")\n",
        "print(\"=\" * 70)\n\n",
        "# 1. Determinístico\n",
        "texto1 = \"Hola Blockchain\"\n",
        "hash1a = calcular_hash(texto1)\n",
        "hash1b = calcular_hash(texto1)\n",
        "print(\"\\n1. DETERMINÍSTICO (mismo input = mismo output)\")\n",
        "print(f\"   Texto: '{texto1}'\")\n",
        "print(f\"   Hash 1: {hash1a}\")\n",
        "print(f\"   Hash 2: {hash1b}\")\n",
        "print(f\"   ¿Son iguales? {hash1a == hash1b}\")\n\n",
        "# 2. Efecto Avalancha\n",
        "texto2 = \"Hola Blockchain!\"\n",
        "hash2 = calcular_hash(texto2)\n",
        "print(\"\\n2. EFECTO AVALANCHA (pequeño cambio = hash totalmente diferente)\")\n",
        "print(f\"   Texto original: '{texto1}'\")\n",
        "print(f\"   Hash original:  {hash1a}\")\n",
        "print(f\"   Texto con '!':  '{texto2}'\")\n",
        "print(f\"   Hash con '!':   {hash2}\")\n",
        "print(f\"   ¿Son diferentes? {hash1a != hash2}\")\n\n",
        "# 3. Longitud fija\n",
        "texto_corto = \"Hi\"\n",
        "texto_largo = \"Este es un texto mucho más largo que contiene mucha más información\"\n",
        "hash_corto = calcular_hash(texto_corto)\n",
        "hash_largo = calcular_hash(texto_largo)\n",
        "print(\"\\n3. LONGITUD FIJA (cualquier input = output de 64 caracteres hex)\")\n",
        "print(f\"   Texto corto: '{texto_corto}'\")\n",
        "print(f\"   Hash: {hash_corto} (longitud: {len(hash_corto)})\")\n",
        "print(f\"   Texto largo: '{texto_largo}'\")\n",
        "print(f\"   Hash: {hash_largo} (longitud: {len(hash_largo)})\")\n\n",
        "print(\"\\n\" + \"=\" * 70)"
      ]
    },
    {
      "cell_type": "markdown",
      "metadata": {},
      "source": [
        "## 📝 Autoevaluación Día 1\n\n",
        "Responde las siguientes preguntas para verificar tu comprensión:\n\n",
        "### Pregunta 1\n",
        "**¿Cuál es el propósito del atributo `previous_hash` en un bloque?**\n\n",
        "a) Almacenar la información del bloque  \n",
        "b) Enlazar el bloque actual con el bloque anterior ✓  \n",
        "c) Calcular el timestamp  \n",
        "d) Identificar el índice del bloque  \n\n",
        "---\n\n",
        "### Pregunta 2\n",
        "**¿Qué método se ejecuta automáticamente al crear un nuevo objeto de la clase Block?**\n\n",
        "a) calculate_hash()  \n",
        "b) __str__()  \n",
        "c) __init__() ✓  \n",
        "d) __main__()  \n\n",
        "---\n\n",
        "### Pregunta 3\n",
        "**¿Por qué el bloque génesis tiene previous_hash = \"0\"?**\n\n",
        "a) Es un error de programación  \n",
        "b) Porque es el primer bloque y no tiene predecesor ✓  \n",
        "c) Para hacer el hash más corto  \n",
        "d) Es un valor temporal que se cambia después  \n\n",
        "---"
      ]
    },
    {
      "cell_type": "markdown",
      "metadata": {},
      "source": [
        "## 💡 Reflexión Pedagógica\n\n",
        "**Has completado el Día 1.** Ahora comprendes:\n\n",
        "- ✅ La estructura básica de un bloque\n",
        "- ✅ Cómo usar clases en Python para modelar conceptos de blockchain\n",
        "- ✅ La importancia del enlace entre bloques mediante `previous_hash`\n\n",
        "**Próximo paso:** En el Día 2 profundizaremos en el cálculo de hash y exploraremos las propiedades criptográficas que hacen segura a la blockchain.\n\n",
        "---"
      ]
    },
    {
      "cell_type": "markdown",
      "metadata": {},
      "source": [
        "# 📅 DÍA 2 — Implementar el cálculo de hash y el bloque génesis\n\n",
        "---\n\n",
        "## 🎯 Objetivo del Día\n\n",
        "Comprender el **funcionamiento de las funciones hash criptográficas** (SHA-256) y su rol fundamental en la seguridad de la blockchain.\n\n",
        "---\n\n",
        "## 📖 Contenido Teórico\n\n",
        "### ¿Qué es una Función Hash?\n\n",
        "Una **función hash** es un algoritmo matemático que transforma cualquier cantidad de datos en una cadena de longitud fija (huella digital). En blockchain usamos **SHA-256** (Secure Hash Algorithm 256-bit).\n\n",
        "### Propiedades Criptográficas del Hash\n\n",
        "1. **Determinístico**: El mismo input siempre produce el mismo output\n",
        "2. **Rápido de calcular**: El hash se genera en milisegundos\n",
        "3. **Efecto avalancha**: Un pequeño cambio en el input cambia completamente el hash\n",
        "4. **Unidireccional**: Imposible obtener el input original desde el hash\n",
        "5. **Resistente a colisiones**: Prácticamente imposible encontrar dos inputs con el mismo hash\n\n",
        "---"
      ]
    },
    {
      "cell_type": "code",
      "execution_count": null,
      "metadata": {},
      "outputs": [],
      "source": [
        "import hashlib\n\n",
        "def calcular_hash(texto):\n",
        "    \"\"\"Calcula el hash SHA-256 de un texto.\"\"\"\n",
        "    return hashlib.sha256(texto.encode()).hexdigest()\n\n",
        "# Demostración de propiedades del hash\n",
        "print(\"=\" * 70)\n",
        "print(\"DEMOSTRACIÓN: PROPIEDADES DE LAS FUNCIONES HASH\")\n",
        "print(\"=\" * 70)\n\n",
        "# 1. Determinístico\n",
        "texto1 = \"Hola Blockchain\"\n",
        "hash1a = calcular_hash(texto1)\n",
        "hash1b = calcular_hash(texto1)\n",
        "print(\"\\n1. DETERMINÍSTICO (mismo input = mismo output)\")\n",
        "print(f\"   Texto: '{texto1}'\")\n",
        "print(f\"   Hash 1: {hash1a}\")\n",
        "print(f\"   Hash 2: {hash1b}\")\n",
        "print(f\"   ¿Son iguales? {hash1a == hash1b}\")\n\n",
        "# 2. Efecto Avalancha\n",
        "texto2 = \"Hola Blockchain!\"\n",
        "hash2 = calcular_hash(texto2)\n",
        "print(\"\\n2. EFECTO AVALANCHA (pequeño cambio = hash totalmente diferente)\")\n",
        "print(f\"   Texto original: '{texto1}'\")\n",
        "print(f\"   Hash original:  {hash1a}\")\n",
        "print(f\"   Texto con '!':  '{texto2}'\")\n",
        "print(f\"   Hash con '!':   {hash2}\")\n",
        "print(f\"   ¿Son diferentes? {hash1a != hash2}\")\n\n",
        "# 3. Longitud fija\n",
        "texto_corto = \"Hi\"\n",
        "texto_largo = \"Este es un texto mucho más largo que contiene mucha más información\"\n",
        "hash_corto = calcular_hash(texto_corto)\n",
        "hash_largo = calcular_hash(texto_largo)\n",
        "print(\"\\n3. LONGITUD FIJA (cualquier input = output de 64 caracteres hex)\")\n",
        "print(f\"   Texto corto: '{texto_corto}'\")\n",
        "print(f\"   Hash: {hash_corto} (longitud: {len(hash_corto)})\")\n",
        "print(f\"   Texto largo: '{texto_largo}'\")\n",
        "print(f\"   Hash: {hash_largo} (longitud: {len(hash_largo)})\")\n\n",
        "print(\"\\n\" + \"=\" * 70)"
      ]
    },
    {
      "cell_type": "markdown",
      "metadata": {},
      "source": [
        "## ✏️ Ejercicio Práctico 2\n\n**Instrucciones:**\n\n1. Crea una función llamada `verificar_integridad_bloque()` que reciba dos bloques consecutivos\n2. La función debe verificar que el `previous_hash` del segundo bloque coincida con el `hash` del primer bloque\n3. Debe retornar `True` si son válidos, `False` si no\n4. Prueba la función con el bloque génesis y el bloque1"
      ]
    },
    {
      "cell_type": "code",
      "execution_count": null,
      "metadata": {},
      "outputs": [],
      "source": [
        "# ESCRIBE TU CÓDIGO AQUÍ\n\ndef verificar_integridad_bloque(bloque_anterior, bloque_actual):\n    # Tu código aquí\n    pass\n\n# Prueba tu función\n"
      ]
    },
    {
      "cell_type": "markdown",
      "metadata": {},
      "source": [
        "### ✅ Solución — No ver hasta intentar"
      ]
    },
    {
      "cell_type": "code",
      "execution_count": null,
      "metadata": {},
      "outputs": [],
      "source": [
        "# SOLUCIÓN\n\ndef verificar_integridad_bloque(bloque_anterior, bloque_actual):\n    return bloque_anterior.hash == bloque_actual.previous_hash\n\n# Pruebas\ngenesis = Block(0, \"Génesis\", \"0\")\nbloque1 = Block(1, \"Transacción 1\", genesis.hash)\nprint(f\"¿Válido? {verificar_integridad_bloque(genesis, bloque1)}\")\n\n# Bloque corrupto\nbloque_corrupto = Block(2, \"Corrupto\", \"hash_falso\")\nprint(f\"¿Válido? {verificar_integridad_bloque(bloque1, bloque_corrupto)}\")"
      ]
    },
    {
      "cell_type": "markdown",
      "metadata": {},
      "source": [
        "## 📝 Autoevaluación Día 2\n\n**P1: ¿Qué significa que una función hash sea determinística?**\n- a) Longitud fija\n- b) Mismo input = mismo output ✓\n- c) Imposible revertir\n- d) Cálculo rápido\n\n**P2: ¿Cuántos caracteres hexadecimales produce SHA-256?**\n- a) 32\n- b) 64 ✓\n- c) 128\n- d) 256\n\n**P3: ¿Qué propiedad hace inmutable la blockchain?**\n- a) Velocidad\n- b) Longitud fija\n- c) Efecto avalancha ✓\n- d) Hexadecimales"
      ]
    },
    {
      "cell_type": "markdown",
      "metadata": {},
      "source": [
        "# 📅 DÍA 3 — Construir la clase Blockchain\n\n## 🎯 Objetivo\nConstruir la clase que gestiona la cadena completa de bloques.\n\n## 📖 Teoría\n\n### Responsabilidades de Blockchain\n1. Almacenar la cadena de bloques (lista)\n2. Crear el bloque génesis automáticamente\n3. Agregar nuevos bloques\n4. Validar la integridad\n5. Obtener el último bloque\n\n### Estructura de Datos\nUsamos una **lista de Python** para almacenar los bloques en orden secuencial."
      ]
    },
    {
      "cell_type": "code",
      "execution_count": null,
      "metadata": {},
      "outputs": [],
      "source": [
        "import hashlib\nimport datetime\n\nclass Block:\n    def __init__(self, index, data, previous_hash):\n        self.index = index\n        self.timestamp = datetime.datetime.now()\n        self.data = data\n        self.previous_hash = previous_hash\n        self.hash = self.calculate_hash()\n    \n    def calculate_hash(self):\n        content = f\"{self.index}{self.timestamp}{self.data}{self.previous_hash}\"\n        return hashlib.sha256(content.encode()).hexdigest()\n\nclass Blockchain:\n    def __init__(self):\n        \"\"\"Inicializa la blockchain con el bloque génesis.\"\"\"\n        self.chain = [self.create_genesis_block()]\n    \n    def create_genesis_block(self):\n        \"\"\"Crea el primer bloque de la cadena.\"\"\"\n        return Block(0, \"Bloque Génesis\", \"0\")\n    \n    def get_latest_block(self):\n        \"\"\"Retorna el último bloque de la cadena.\"\"\"\n        return self.chain[-1]\n    \n    def add_block(self, data):\n        \"\"\"Agrega un nuevo bloque a la cadena.\"\"\"\n        previous_block = self.get_latest_block()\n        new_index = previous_block.index + 1\n        new_block = Block(new_index, data, previous_block.hash)\n        self.chain.append(new_block)\n        return new_block\n\n# Crear blockchain\nmi_blockchain = Blockchain()\nprint(f\"Blockchain creada con {len(mi_blockchain.chain)} bloque(s)\")\nprint(f\"Génesis hash: {mi_blockchain.get_latest_block().hash}\")"
      ]
    },
    {
      "cell_type": "markdown",
      "metadata": {},
      "source": [
        "## ✏️ Ejercicio 3\nAgrega un método `get_block(index)` que retorne un bloque por su índice, o `None` si no existe."
      ]
    },
    {
      "cell_type": "code",
      "execution_count": null,
      "metadata": {},
      "outputs": [],
      "source": [
        "# ESCRIBE TU CÓDIGO AQUÍ\n"
      ]
    },
    {
      "cell_type": "markdown",
      "metadata": {},
      "source": [
        "### ✅ Solución"
      ]
    },
    {
      "cell_type": "code",
      "execution_count": null,
      "metadata": {},
      "outputs": [],
      "source": [
        "# SOLUCIÓN\nclass Blockchain:\n    def __init__(self):\n        self.chain = [self.create_genesis_block()]\n    \n    def create_genesis_block(self):\n        return Block(0, \"Bloque Génesis\", \"0\")\n    \n    def get_latest_block(self):\n        return self.chain[-1]\n    \n    def add_block(self, data):\n        previous_block = self.get_latest_block()\n        new_block = Block(previous_block.index + 1, data, previous_block.hash)\n        self.chain.append(new_block)\n        return new_block\n    \n    def get_block(self, index):\n        \"\"\"Retorna un bloque por su índice.\"\"\"\n        if 0 <= index < len(self.chain):\n            return self.chain[index]\n        return None\n\nbc = Blockchain()\nbc.add_block(\"TX1\")\nbloque = bc.get_block(1)\nprint(f\"Bloque 1: {bloque.data if bloque else 'No encontrado'}\")"
      ]
    },
    {
      "cell_type": "markdown",
      "metadata": {},
      "source": [
        "## 📝 Autoevaluación Día 3\n\n**P1: ¿Qué estructura usa Blockchain para almacenar bloques?**\n- a) Diccionario\n- b) Lista ✓\n- c) Tupla\n- d) Set\n\n**P2: ¿Cuándo se crea el bloque génesis?**\n- a) Al agregar primer bloque\n- b) En __init__() ✓\n- c) Manualmente\n- d) Al validar\n\n**P3: ¿Qué retorna get_latest_block()?**\n- a) Primer bloque\n- b) Último bloque ✓\n- c) Todos los bloques\n- d) El índice"
      ]
    },
    {
      "cell_type": "markdown",
      "metadata": {},
      "source": [
        "# 📅 DÍA 4 — Agregar bloques y enlazarlos\n\n## 🎯 Objetivo\nImplementar la lógica para agregar bloques de forma segura manteniendo la integridad.\n\n## 📖 Teoría\n\n### Proceso de Agregar Bloques\n1. Obtener el último bloque de la cadena\n2. Calcular el nuevo índice (índice anterior + 1)\n3. Obtener el hash del bloque anterior\n4. Crear el nuevo bloque con estos datos\n5. Agregar el nuevo bloque a la cadena\n\n### Enlace Criptográfico\nCada bloque contiene el hash del anterior, creando una cadena inmutable."
      ]
    },
    {
      "cell_type": "code",
      "execution_count": null,
      "metadata": {},
      "outputs": [],
      "source": [
        "import hashlib\nimport datetime\n\nclass Block:\n    def __init__(self, index, data, previous_hash):\n        self.index = index\n        self.timestamp = datetime.datetime.now()\n        self.data = data\n        self.previous_hash = previous_hash\n        self.hash = self.calculate_hash()\n    \n    def calculate_hash(self):\n        content = f\"{self.index}{self.timestamp}{self.data}{self.previous_hash}\"\n        return hashlib.sha256(content.encode()).hexdigest()\n    \n    def __str__(self):\n        return f\"Block #{self.index} | Data: {self.data} | Hash: {self.hash[:16]}...\"\n\nclass Blockchain:\n    def __init__(self):\n        self.chain = [self.create_genesis_block()]\n    \n    def create_genesis_block(self):\n        return Block(0, \"Bloque Génesis\", \"0\")\n    \n    def get_latest_block(self):\n        return self.chain[-1]\n    \n    def add_block(self, data):\n        previous_block = self.get_latest_block()\n        new_block = Block(previous_block.index + 1, data, previous_block.hash)\n        self.chain.append(new_block)\n        print(f\"Bloque #{new_block.index} agregado\")\n        return new_block\n    \n    def display_chain(self):\n        print(\"\\n\" + \"=\"*60)\n        print(\"BLOCKCHAIN COMPLETA\")\n        print(\"=\"*60)\n        for block in self.chain:\n            print(block)\n        print(\"=\"*60 + \"\\n\")\n\n# Crear y usar blockchain\nbc = Blockchain()\nbc.add_block(\"Alice -> Bob: 10 BTC\")\nbc.add_block(\"Bob -> Charlie: 5 BTC\")\nbc.add_block(\"Charlie -> Alice: 3 BTC\")\nbc.display_chain()"
      ]
    },
    {
      "cell_type": "markdown",
      "metadata": {},
      "source": [
        "## ✏️ Ejercicio 4\nAgrega un método `get_chain_length()` que retorne el número total de bloques en la cadena."
      ]
    },
    {
      "cell_type": "code",
      "execution_count": null,
      "metadata": {},
      "outputs": [],
      "source": [
        "# ESCRIBE TU CÓDIGO AQUÍ\n"
      ]
    },
    {
      "cell_type": "markdown",
      "metadata": {},
      "source": [
        "### ✅ Solución"
      ]
    },
    {
      "cell_type": "code",
      "execution_count": null,
      "metadata": {},
      "outputs": [],
      "source": [
        "# SOLUCIÓN\nclass Blockchain:\n    def __init__(self):\n        self.chain = [self.create_genesis_block()]\n    \n    def create_genesis_block(self):\n        return Block(0, \"Bloque Génesis\", \"0\")\n    \n    def get_latest_block(self):\n        return self.chain[-1]\n    \n    def add_block(self, data):\n        previous_block = self.get_latest_block()\n        new_block = Block(previous_block.index + 1, data, previous_block.hash)\n        self.chain.append(new_block)\n        return new_block\n    \n    def get_chain_length(self):\n        \"\"\"Retorna el número de bloques en la cadena.\"\"\"\n        return len(self.chain)\n\nbc = Blockchain()\nbc.add_block(\"TX1\")\nbc.add_block(\"TX2\")\nprint(f\"Longitud: {bc.get_chain_length()} bloques\")"
      ]
    },
    {
      "cell_type": "markdown",
      "metadata": {},
      "source": [
        "## 📝 Autoevaluación Día 4\n\n**P1: ¿Qué información necesita un nuevo bloque?**\n- a) Solo data\n- b) Index, data, previous_hash ✓\n- c) Solo hash\n- d) Timestamp manual\n\n**P2: ¿Cómo se calcula el índice del nuevo bloque?**\n- a) Aleatorio\n- b) Índice anterior + 1 ✓\n- c) Longitud de data\n- d) Timestamp\n\n**P3: ¿Qué pasa si modificamos un bloque antiguo?**\n- a) Nada\n- b) Se rompe la cadena ✓\n- c) Se recalcula automáticamente\n- d) Solo afecta ese bloque"
      ]
    },
    {
      "cell_type": "markdown",
      "metadata": {},
      "source": [
        "# 📅 DÍA 5 — Validar la integridad de la cadena\n\n## 🎯 Objetivo\nImplementar validación completa de la blockchain para detectar manipulaciones.\n\n## 📖 Teoría\n\n### Validaciones Necesarias\n1. **Hash interno**: Verificar que el hash calculado coincida con el almacenado\n2. **Enlace**: Verificar que previous_hash coincida con hash anterior\n3. **Índices**: Verificar secuencia correcta\n4. **Génesis**: Verificar que el primer bloque sea válido\n\n### Inmutabilidad\nCualquier modificación en un bloque rompe la cadena, haciendo evidente la manipulación."
      ]
    },
    {
      "cell_type": "code",
      "execution_count": null,
      "metadata": {},
      "outputs": [],
      "source": [
        "import hashlib\nimport datetime\n\nclass Block:\n    def __init__(self, index, data, previous_hash):\n        self.index = index\n        self.timestamp = datetime.datetime.now()\n        self.data = data\n        self.previous_hash = previous_hash\n        self.hash = self.calculate_hash()\n    \n    def calculate_hash(self):\n        content = f\"{self.index}{self.timestamp}{self.data}{self.previous_hash}\"\n        return hashlib.sha256(content.encode()).hexdigest()\n    \n    def is_valid_hash(self):\n        \"\"\"Verifica que el hash almacenado sea correcto.\"\"\"\n        return self.hash == self.calculate_hash()\n\nclass Blockchain:\n    def __init__(self):\n        self.chain = [self.create_genesis_block()]\n    \n    def create_genesis_block(self):\n        return Block(0, \"Bloque Génesis\", \"0\")\n    \n    def get_latest_block(self):\n        return self.chain[-1]\n    \n    def add_block(self, data):\n        previous_block = self.get_latest_block()\n        new_block = Block(previous_block.index + 1, data, previous_block.hash)\n        self.chain.append(new_block)\n        return new_block\n    \n    def is_chain_valid(self):\n        \"\"\"Valida la integridad completa de la blockchain.\"\"\"\n        # Validar bloque génesis\n        if self.chain[0].previous_hash != \"0\":\n            print(\"Error: Bloque génesis inválido\")\n            return False\n        \n        # Validar cada bloque\n        for i in range(1, len(self.chain)):\n            current_block = self.chain[i]\n            previous_block = self.chain[i-1]\n            \n            # Verificar hash interno\n            if not current_block.is_valid_hash():\n                print(f\"Error: Hash inválido en bloque #{i}\")\n                return False\n            \n            # Verificar enlace\n            if current_block.previous_hash != previous_block.hash:\n                print(f\"Error: Enlace roto en bloque #{i}\")\n                return False\n            \n            # Verificar índice\n            if current_block.index != previous_block.index + 1:\n                print(f\"Error: Índice incorrecto en bloque #{i}\")\n                return False\n        \n        print(\"Blockchain válida\")\n        return True\n\n# Prueba 1: Blockchain válida\nprint(\"=\"*60)\nprint(\"PRUEBA 1: Blockchain válida\")\nprint(\"=\"*60)\nbc = Blockchain()\nbc.add_block(\"TX1\")\nbc.add_block(\"TX2\")\nbc.is_chain_valid()\n\n# Prueba 2: Blockchain corrupta\nprint(\"\\n\" + \"=\"*60)\nprint(\"PRUEBA 2: Blockchain corrupta\")\nprint(\"=\"*60)\nbc2 = Blockchain()\nbc2.add_block(\"TX1\")\nbc2.add_block(\"TX2\")\nbc2.chain[1].data = \"Datos modificados\"\nbc2.is_chain_valid()"
      ]
    },
    {
      "cell_type": "markdown",
      "metadata": {},
      "source": [
        "## ✏️ Ejercicio 5\nAgrega un método `find_tampering()` que retorne una lista de índices de bloques corruptos."
      ]
    },
    {
      "cell_type": "code",
      "execution_count": null,
      "metadata": {},
      "outputs": [],
      "source": [
        "# ESCRIBE TU CÓDIGO AQUÍ\n"
      ]
    },
    {
      "cell_type": "markdown",
      "metadata": {},
      "source": [
        "### ✅ Solución"
      ]
    },
    {
      "cell_type": "code",
      "execution_count": null,
      "metadata": {},
      "outputs": [],
      "source": [
        "# SOLUCIÓN\nclass Blockchain:\n    def __init__(self):\n        self.chain = [self.create_genesis_block()]\n    \n    def create_genesis_block(self):\n        return Block(0, \"Bloque Génesis\", \"0\")\n    \n    def get_latest_block(self):\n        return self.chain[-1]\n    \n    def add_block(self, data):\n        previous_block = self.get_latest_block()\n        new_block = Block(previous_block.index + 1, data, previous_block.hash)\n        self.chain.append(new_block)\n        return new_block\n    \n    def find_tampering(self):\n        \"\"\"Encuentra bloques corruptos.\"\"\"\n        corrupted = []\n        for i in range(1, len(self.chain)):\n            current = self.chain[i]\n            previous = self.chain[i-1]\n            \n            if not current.is_valid_hash():\n                corrupted.append(i)\n            elif current.previous_hash != previous.hash:\n                corrupted.append(i)\n        \n        return corrupted\n\nbc = Blockchain()\nbc.add_block(\"TX1\")\nbc.add_block(\"TX2\")\nbc.add_block(\"TX3\")\nbc.chain[2].data = \"Corrupto\"\nprint(f\"Bloques corruptos: {bc.find_tampering()}\")"
      ]
    },
    {
      "cell_type": "markdown",
      "metadata": {},
      "source": [
        "## 📝 Autoevaluación Día 5\n\n**P1: ¿Qué valida is_valid_hash()?**\n- a) Enlace con anterior\n- b) Hash calculado = hash almacenado ✓\n- c) Índice correcto\n- d) Timestamp\n\n**P2: ¿Qué pasa si modificamos data de un bloque?**\n- a) Nada\n- b) Hash calculado difiere del almacenado ✓\n- c) Se actualiza automáticamente\n- d) Solo afecta ese bloque\n\n**P3: ¿Por qué validar desde bloque 1?**\n- a) Error de código\n- b) Génesis no tiene anterior ✓\n- c) Optimización\n- d) Convención"
      ]
    },
    {
      "cell_type": "markdown",
      "metadata": {},
      "source": [
        "# 🎓 RESUMEN SEMANA 2\n\n## ✅ Logros Alcanzados\n\n1. **Día 1**: Clase Block con atributos esenciales\n2. **Día 2**: Funciones hash criptográficas (SHA-256)\n3. **Día 3**: Clase Blockchain para gestionar la cadena\n4. **Día 4**: Agregar bloques de forma segura\n5. **Día 5**: Validación completa de integridad\n\n## 🚀 Proyecto Final Integrador\n\nAhora tienes una blockchain funcional completa. Aquí está el código integrado:"
      ]
    },
    {
      "cell_type": "code",
      "execution_count": null,
      "metadata": {},
      "outputs": [],
      "source": [
        "# BLOCKCHAIN COMPLETA - PROYECTO INTEGRADOR\n\nimport hashlib\nimport datetime\nimport json\n\nclass Block:\n    def __init__(self, index, data, previous_hash):\n        self.index = index\n        self.timestamp = datetime.datetime.now()\n        self.data = data\n        self.previous_hash = previous_hash\n        self.hash = self.calculate_hash()\n    \n    def calculate_hash(self):\n        content = f\"{self.index}{self.timestamp}{self.data}{self.previous_hash}\"\n        return hashlib.sha256(content.encode()).hexdigest()\n    \n    def is_valid_hash(self):\n        return self.hash == self.calculate_hash()\n    \n    def to_dict(self):\n        return {\n            'index': self.index,\n            'timestamp': str(self.timestamp),\n            'data': self.data,\n            'previous_hash': self.previous_hash,\n            'hash': self.hash\n        }\n    \n    def __str__(self):\n        return f\"Block #{self.index} | {self.data} | Hash: {self.hash[:16]}...\"\n\nclass Blockchain:\n    def __init__(self):\n        self.chain = [self.create_genesis_block()]\n    \n    def create_genesis_block(self):\n        return Block(0, \"Bloque Génesis - Blockchain Educativa\", \"0\")\n    \n    def get_latest_block(self):\n        return self.chain[-1]\n    \n    def add_block(self, data):\n        previous_block = self.get_latest_block()\n        new_block = Block(previous_block.index + 1, data, previous_block.hash)\n        self.chain.append(new_block)\n        return new_block\n    \n    def is_chain_valid(self):\n        if self.chain[0].previous_hash != \"0\":\n            return False\n        \n        for i in range(1, len(self.chain)):\n            current = self.chain[i]\n            previous = self.chain[i-1]\n            \n            if not current.is_valid_hash():\n                return False\n            if current.previous_hash != previous.hash:\n                return False\n            if current.index != previous.index + 1:\n                return False\n        \n        return True\n    \n    def display_chain(self):\n        print(\"\\n\" + \"=\"*70)\n        print(\"BLOCKCHAIN COMPLETA\".center(70))\n        print(\"=\"*70)\n        for block in self.chain:\n            print(f\"  {block}\")\n        print(\"=\"*70)\n        print(f\"Total de bloques: {len(self.chain)}\")\n        print(f\"Blockchain válida: {self.is_chain_valid()}\")\n        print(\"=\"*70 + \"\\n\")\n    \n    def to_json(self):\n        return json.dumps([block.to_dict() for block in self.chain], indent=2)\n\n# DEMOSTRACIÓN FINAL\nprint(\"\\n\" + \"#\"*70)\nprint(\"DEMOSTRACIÓN FINAL - BLOCKCHAIN FUNCIONAL\".center(70))\nprint(\"#\"*70 + \"\\n\")\n\n# Crear blockchain\nmi_blockchain = Blockchain()\n\n# Agregar transacciones\nprint(\"Agregando bloques...\")\nmi_blockchain.add_block(\"Alice envía 50 BTC a Bob\")\nmi_blockchain.add_block(\"Bob envía 20 BTC a Charlie\")\nmi_blockchain.add_block(\"Charlie envía 10 BTC a Diana\")\nmi_blockchain.add_block(\"Diana envía 5 BTC a Alice\")\n\n# Mostrar blockchain\nmi_blockchain.display_chain()\n\n# Intentar corromper\nprint(\"\\nIntentando corromper el bloque #2...\")\nmi_blockchain.chain[2].data = \"Bob envía 100 BTC a Charlie (MODIFICADO)\"\nprint(f\"¿Blockchain válida después de corrupción? {mi_blockchain.is_chain_valid()}\")\n\nprint(\"\\n\" + \"#\"*70)\nprint(\"¡FELICITACIONES! Has completado la Semana 2\".center(70))\nprint(\"#\"*70 + \"\\n\")"
      ]
    },
    {
      "cell_type": "markdown",
      "metadata": {},
      "source": [
        "## 💡 Reflexión Final\n\n### Lo que has aprendido:\n\n✅ **Fundamentos técnicos:**\n- Programación orientada a objetos aplicada a blockchain\n- Funciones hash criptográficas (SHA-256)\n- Estructuras de datos enlazadas\n- Validación de integridad\n\n✅ **Conceptos de blockchain:**\n- Inmutabilidad mediante hash\n- Enlace criptográfico entre bloques\n- Detección de manipulaciones\n- Bloque génesis\n\n✅ **Habilidades prácticas:**\n- Implementar una blockchain desde cero\n- Validar la integridad de datos\n- Detectar corrupción\n- Diseñar sistemas seguros\n\n### Próximos pasos:\n\n🚀 **Semana 3: Validación y Seguridad**\n- Proof of Work (minería)\n- Consenso distribuido\n- Ataques y defensas\n- Escalabilidad\n\n### Desafíos adicionales:\n\n1. **Agregar nonce y dificultad** (preparación para minería)\n2. **Implementar persistencia** (guardar/cargar blockchain)\n3. **Crear API REST** para interactuar con la blockchain\n4. **Visualizar con gráficos** la cadena de bloques\n\n---\n\n## 📚 Recursos Adicionales\n\n**Videos:**\n- \"But how does bitcoin actually work?\" - 3Blue1Brown\n- \"Blockchain 101\" - Anders Brownworth\n\n**Lecturas:**\n- Bitcoin Whitepaper - Satoshi Nakamoto\n- \"Mastering Bitcoin\" - Andreas Antonopoulos\n\n**Herramientas:**\n- https://andersbrownworth.com/blockchain/ (Demo interactiva)\n- https://blockchaindemo.io/ (Visualización)\n\n---\n\n## ✨ ¡Felicitaciones!\n\nHas construido tu primera blockchain funcional en Python. Este es el fundamento sobre el cual se construyen tecnologías como Bitcoin, Ethereum y muchas otras aplicaciones descentralizadas.\n\n**¡Sigue aprendiendo y construyendo!** 🚀"
      ]
    }
  ],
  "metadata": {
    "language_info": {
      "name": "python"
    }
  },
  "nbformat": 4,
  "nbformat_minor": 4
}