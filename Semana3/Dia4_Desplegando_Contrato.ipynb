{
 "cells": [
  {
   "cell_type": "markdown",
   "metadata": {},
   "source": [
    "# Día 4: Desplegando el contrato\n",
    "\n",
    "## Objetivo\n",
    "Aprender a desplegar un Smart Contract en la blockchain local usando Python y Web3.py."
   ]
  },
  {
   "cell_type": "markdown",
   "metadata": {},
   "source": [
    "## 1. Preparación para el despliegue\n",
    "\n",
    "Primero, necesitamos cargar el bytecode y el ABI del contrato que compilamos en el día anterior. Si no tienes estos archivos, ejecuta primero el notebook del Día 3."
   ]
  },
  {
   "cell_type": "code",
   "execution_count": null,
   "metadata": {},
   "outputs": [],
   "source": [
    "# Importamos las bibliotecas necesarias\n",
    "from web3 import Web3\n",
    "import json\n",
    "from solcx import compile_standard, install_solc\n",
    "\n",
    "# Instalamos el compilador si es necesario\n",
    "install_solc('0.8.0')\n",
    "\n",
    "# Leemos y compilamos el contrato\n",
    "with open('SimpleStorage.sol', 'r') as file:\n",
    "    simple_storage_file = file.read()\n",
    "\n",
    "compiled_sol = compile_standard(\n",
    "    {\n",
    "        \"language\": \"Solidity\",\n",
    "        \"sources\": {\"SimpleStorage.sol\": {\"content\": simple_storage_file}},\n",
    "        \"settings\": {\n",
    "            \"outputSelection\": {\n",
    "                \"*\": {\"*\": [\"abi\", \"metadata\", \"evm.bytecode\", \"evm.sourceMap\"]}\n",
    "            }\n",
    "        },\n",
    "    },\n",
    "    solc_version=\"0.8.0\",\n",
    ")\n",
    "\n",
    "# Extraemos el bytecode y el ABI\n",
    "bytecode = compiled_sol[\"contracts\"][\"SimpleStorage.sol\"][\"SimpleStorage\"][\"evm\"][\"bytecode\"][\"object\"]\n",
    "abi = compiled_sol[\"contracts\"][\"SimpleStorage.sol\"][\"SimpleStorage\"][\"abi\"]\n",
    "\n",
    "print(\"Contrato compilado y listo para desplegar.\")"
   ]
  },
  {
   "cell_type": "markdown",
   "metadata": {},
   "source": [
    "## 2. Conexión a la blockchain\n",
    "\n",
    "Nos conectamos a nuestra blockchain local (Ganache):"
   ]
  },
  {
   "cell_type": "code",
   "execution_count": null,
   "metadata": {},
   "outputs": [],
   "source": [
    "# Conectamos con Ganache\n",
    "web3 = Web3(Web3.HTTPProvider(\"http://127.0.0.1:7545\"))\n",
    "\n",
    "# Verificamos la conexión\n",
    "if web3.is_connected():\n",
    "    print(\"Conectado a Ganache correctamente.\")\n",
    "    print(f\"Bloque actual: {web3.eth.block_number}\")\n",
    "else:\n",
    "    print(\"Error: No se pudo conectar a Ganache. Asegúrate de que esté en ejecución.\")"
   ]
  },
  {
   "cell_type": "markdown",
   "metadata": {},
   "source": [
    "## 3. Creación del objeto de contrato\n",
    "\n",
    "Creamos un objeto de contrato usando el bytecode y el ABI:"
   ]
  },
  {
   "cell_type": "code",
   "execution_count": null,
   "metadata": {},
   "outputs": [],
   "source": [
    "# Creamos el objeto del contrato\n",
    "SimpleStorage = web3.eth.contract(abi=abi, bytecode=bytecode)\n",
    "print(\"Objeto de contrato creado.\")"
   ]
  },
  {
   "cell_type": "markdown",
   "metadata": {},
   "source": [
    "## 4. Despliegue del contrato\n",
    "\n",
    "El despliegue de un contrato se realiza en dos pasos:\n",
    "\n",
    "1. Construir la transacción de despliegue\n",
    "2. Enviar la transacción y esperar la confirmación"
   ]
  },
  {
   "cell_type": "code",
   "execution_count": null,
   "metadata": {},
   "outputs": [],
   "source": [
    "# Obtenemos la cuenta que usaremos para desplegar el contrato\n",
    "cuenta = web3.eth.accounts[0]\n",
    "print(f\"Usando la cuenta: {cuenta}\")\n",
    "\n",
    "# Obtenemos el nonce (número de transacciones enviadas por la cuenta)\n",
    "nonce = web3.eth.get_transaction_count(cuenta)\n",
    "\n",
    "# 1. Construimos la transacción de despliegue\n",
    "tx = SimpleStorage.constructor().build_transaction(\n",
    "    {\n",
    "        \"from\": cuenta,\n",
    "        \"nonce\": nonce,\n",
    "        \"gas\": 2000000,  # Límite de gas\n",
    "        \"gasPrice\": web3.to_wei(\"50\", \"gwei\")  # Precio del gas\n",
    "    }\n",
    ")\n",
    "\n",
    "# 2. Firmamos la transacción (en Ganache no es necesario, pero lo incluimos para completitud)\n",
    "# En una red real, necesitaríamos la clave privada: tx_signed = web3.eth.account.sign_transaction(tx, private_key)\n",
    "\n",
    "# 3. Enviamos la transacción\n",
    "tx_hash = web3.eth.send_transaction(tx)\n",
    "print(f\"Transacción enviada: {tx_hash.hex()}\")\n",
    "\n",
    "# 4. Esperamos la confirmación\n",
    "tx_receipt = web3.eth.wait_for_transaction_receipt(tx_hash)\n",
    "print(f\"Contrato desplegado en la dirección: {tx_receipt.contractAddress}\")"
   ]
  },
  {
   "cell_type": "markdown",
   "metadata": {},
   "source": [
    "## 5. Guardando la dirección del contrato\n",
    "\n",
    "Es importante guardar la dirección del contrato para poder interactuar con él más tarde:"
   ]
  },
  {
   "cell_type": "code",
   "execution_count": null,
   "metadata": {},
   "outputs": [],
   "source": [
    "# Guardamos la dirección del contrato en un archivo\n",
    "contract_address = tx_receipt.contractAddress\n",
    "with open('contract_address.txt', 'w') as file:\n",
    "    file.write(contract_address)\n",
    "\n",
    "print(f\"Dirección del contrato guardada en 'contract_address.txt': {contract_address}\")"
   ]
  },
  {
   "cell_type": "markdown",
   "metadata": {},
   "source": [
    "## 6. Entendiendo los componentes clave\n",
    "\n",
    "### ABI (Application Binary Interface)\n",
    "- Es la interfaz que define cómo interactuar con el contrato\n",
    "- Describe las funciones, eventos y sus parámetros\n",
    "- Es necesario para llamar a las funciones del contrato\n",
    "\n",
    "### Bytecode\n",
    "- Es el código ejecutable que se despliega en la blockchain\n",
    "- Resultado de compilar el código Solidity\n",
    "- Se ejecuta en la Máquina Virtual de Ethereum (EVM)\n",
    "\n",
    "### Dirección del contrato\n",
    "- Identifica de manera única al contrato en la blockchain\n",
    "- Se genera durante el despliegue\n",
    "- Es necesaria para interactuar con el contrato desplegado"
   ]
  },
  {
   "cell_type": "markdown",
   "metadata": {},
   "source": [
    "## 7. Verificando el despliegue\n",
    "\n",
    "Podemos verificar que nuestro contrato se ha desplegado correctamente creando una instancia del contrato con la dirección:"
   ]
  },
  {
   "cell_type": "code",
   "execution_count": null,
   "metadata": {},
   "outputs": [],
   "source": [
    "# Creamos una instancia del contrato desplegado\n",
    "simple_storage = web3.eth.contract(address=contract_address, abi=abi)\n",
    "\n",
    "# Verificamos que podemos llamar a la función get()\n",
    "valor_almacenado = simple_storage.functions.get().call()\n",
    "print(f\"Valor almacenado actualmente: {valor_almacenado}\")\n",
    "\n",
    "print(\"¡El contrato se ha desplegado correctamente y está funcionando!\")"
   ]
  },
  {
   "cell_type": "markdown",
   "metadata": {},
   "source": [
    "## Lo aprendido hoy\n",
    "\n",
    "- Preparamos un contrato para su despliegue en la blockchain\n",
    "- Desplegamos el contrato usando Web3.py\n",
    "- Entendimos los componentes clave: ABI, bytecode y dirección del contrato\n",
    "- Verificamos que el contrato se desplegó correctamente\n",
    "\n",
    "En el próximo día, aprenderemos a interactuar con el contrato desplegado para leer y escribir datos."
   ]
  }
 ],
 "metadata": {
  "kernelspec": {
   "display_name": "Python 3",
   "language": "python",
   "name": "python3"
  },
  "language_info": {
   "codemirror_mode": {
    "name": "ipython",
    "version": 3
   },
   "file_extension": ".py",
   "mimetype": "text/x-python",
   "name": "python",
   "nbconvert_exporter": "python",
   "pygments_lexer": "ipython3",
   "version": "3.8.10"
  }
 },
 "nbformat": 4,
 "nbformat_minor": 4
}