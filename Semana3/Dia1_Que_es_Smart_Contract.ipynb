{
 "cells": [
  {
   "cell_type": "markdown",
   "metadata": {},
   "source": [
    "# Día 1: ¿Qué es un Smart Contract?\n",
    "\n",
    "## Objetivo\n",
    "Comprender el concepto de Smart Contract, sus características principales y aplicaciones."
   ]
  },
  {
   "cell_type": "markdown",
   "metadata": {},
   "source": [
    "## 1. Definición de Smart Contract\n",
    "\n",
    "Un **Smart Contract** (contrato inteligente) es un programa informático que:\n",
    "\n",
    "- Se ejecuta automáticamente cuando se cumplen condiciones predefinidas\n",
    "- Es inmutable una vez desplegado en la blockchain\n",
    "- No requiere intermediarios para su ejecución\n",
    "- Garantiza transparencia y confianza entre las partes\n",
    "\n",
    "Los contratos inteligentes fueron propuestos inicialmente por Nick Szabo en 1994, pero se popularizaron con la llegada de Ethereum en 2015, que fue la primera blockchain en implementarlos de manera completa."
   ]
  },
  {
   "cell_type": "markdown",
   "metadata": {},
   "source": [
    "## 2. Características principales\n",
    "\n",
    "- **Autoejecución**: Se ejecutan automáticamente cuando se cumplen las condiciones programadas.\n",
    "- **Inmutabilidad**: Una vez desplegados, no pueden ser modificados.\n",
    "- **Transparencia**: El código es visible para todos los participantes de la red.\n",
    "- **Descentralización**: No dependen de una autoridad central para su ejecución.\n",
    "- **Determinismo**: Para la misma entrada, siempre producen la misma salida."
   ]
  },
  {
   "cell_type": "markdown",
   "metadata": {},
   "source": [
    "## 3. Componentes de un Smart Contract\n",
    "\n",
    "### Contract\n",
    "Es el contenedor principal que encapsula todo el código y los datos del contrato inteligente.\n",
    "\n",
    "```solidity\n",
    "contract MiContrato {\n",
    "    // Código del contrato\n",
    "}\n",
    "```\n",
    "\n",
    "### Function (Función)\n",
    "Son los métodos que definen la lógica del contrato y permiten interactuar con él.\n",
    "\n",
    "```solidity\n",
    "function transferir(address destinatario, uint cantidad) public {\n",
    "    // Lógica de transferencia\n",
    "}\n",
    "```\n",
    "\n",
    "### Event (Evento)\n",
    "Permiten registrar acciones importantes que ocurren en el contrato para que aplicaciones externas puedan reaccionar a ellas.\n",
    "\n",
    "```solidity\n",
    "event Transferencia(address origen, address destino, uint cantidad);\n",
    "```\n",
    "\n",
    "### Mapping (Mapeo)\n",
    "Estructuras de datos similares a diccionarios que permiten almacenar pares clave-valor.\n",
    "\n",
    "```solidity\n",
    "mapping(address => uint) public balances;\n",
    "```"
   ]
  },
  {
   "cell_type": "markdown",
   "metadata": {},
   "source": [
    "## 4. Aplicaciones de los Smart Contracts\n",
    "\n",
    "### DeFi (Finanzas Descentralizadas)\n",
    "- Préstamos sin intermediarios\n",
    "- Intercambios descentralizados (DEX)\n",
    "- Stablecoins algorítmicas\n",
    "- Seguros automáticos\n",
    "\n",
    "### Identidad Digital\n",
    "- Verificación de identidad sin revelar datos personales\n",
    "- Gestión de credenciales digitales\n",
    "- Sistemas de reputación descentralizados\n",
    "\n",
    "### Salud\n",
    "- Gestión segura de historiales médicos\n",
    "- Control de acceso a datos sensibles\n",
    "- Trazabilidad de medicamentos\n",
    "\n",
    "### Internet de las Cosas (IoT)\n",
    "- Pagos automáticos entre dispositivos\n",
    "- Gestión de acceso a recursos compartidos\n",
    "- Registro inmutable de datos de sensores"
   ]
  },
  {
   "cell_type": "markdown",
   "metadata": {},
   "source": [
    "## 5. Mapa Mental: Estructura de un Smart Contract\n",
    "\n",
    "```\n",
    "Smart Contract\n",
    "├── Funciones\n",
    "│   ├── Públicas (accesibles desde fuera)\n",
    "│   ├── Privadas (solo accesibles internamente)\n",
    "│   ├── View (solo lectura)\n",
    "│   └── Pure (no acceden al estado)\n",
    "├── Eventos\n",
    "│   ├── Logs en blockchain\n",
    "│   └── Notificaciones a aplicaciones\n",
    "├── Datos\n",
    "│   ├── Variables de estado\n",
    "│   ├── Mappings\n",
    "│   └── Structs\n",
    "└── Condiciones\n",
    "    ├── Require (validación de entrada)\n",
    "    ├── Assert (invariantes internas)\n",
    "    ├── Revert (cancelar transacción)\n",
    "    └── Modificadores (reglas reutilizables)\n",
    "```"
   ]
  },
  {
   "cell_type": "markdown",
   "metadata": {},
   "source": [
    "## 6. Limitaciones de los Smart Contracts\n",
    "\n",
    "- **Inmutabilidad**: Una vez desplegados, los errores son difíciles de corregir.\n",
    "- **Oráculos**: Necesitan fuentes externas confiables para obtener datos del mundo real.\n",
    "- **Escalabilidad**: Las redes blockchain tienen limitaciones de velocidad y costo.\n",
    "- **Complejidad**: Requieren conocimientos técnicos específicos para su desarrollo seguro."
   ]
  },
  {
   "cell_type": "markdown",
   "metadata": {},
   "source": [
    "## Lo aprendido hoy\n",
    "\n",
    "- Los Smart Contracts son programas autoejecutables e inmutables en blockchain.\n",
    "- Sus componentes principales son: contract, function, event y mapping.\n",
    "- Tienen aplicaciones en diversos sectores como DeFi, identidad digital, salud e IoT.\n",
    "- Presentan ventajas como la autoejecución y transparencia, pero también limitaciones como la dificultad para corregir errores.\n",
    "\n",
    "En el próximo día, aprenderemos a configurar nuestro entorno de desarrollo con Python y Web3.py para interactuar con Smart Contracts."
   ]
  }
 ],
 "metadata": {
  "kernelspec": {
   "display_name": "Python 3",
   "language": "python",
   "name": "python3"
  },
  "language_info": {
   "codemirror_mode": {
    "name": "ipython",
    "version": 3
   },
   "file_extension": ".py",
   "mimetype": "text/x-python",
   "name": "python",
   "nbconvert_exporter": "python",
   "pygments_lexer": "ipython3",
   "version": "3.8.10"
  }
 },
 "nbformat": 4,
 "nbformat_minor": 4
}