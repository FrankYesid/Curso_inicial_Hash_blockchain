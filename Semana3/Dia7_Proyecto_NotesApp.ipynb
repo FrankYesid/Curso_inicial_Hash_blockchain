{
 "cells": [
  {
   "cell_type": "markdown",
   "metadata": {},
   "source": [
    "# Día 7: Proyecto guiado - NotesApp\n",
    "\n",
    "## Objetivo\n",
    "Desarrollar una aplicación completa de notas utilizando un Smart Contract y Python con Web3.py."
   ]
  },
  {
   "cell_type": "markdown",
   "metadata": {},
   "source": [
    "## 1. Definiendo el contrato NotesApp"
   ]
  },
  {
   "cell_type": "code",
   "execution_count": null,
   "metadata": {},
   "outputs": [],
   "source": [
    "# Definimos el contrato NotesApp en Solidity\n",
    "solidity_code = '''\n",
    "pragma solidity ^0.8.0;\n",
    "\n",
    "contract NotesApp {\n",
    "    // Estructura para almacenar una nota\n",
    "    struct Note {\n",
    "        string title;\n",
    "        string content;\n",
    "        uint256 timestamp;\n",
    "    }\n",
    "    \n",
    "    // Array para almacenar todas las notas\n",
    "    Note[] public notes;\n",
    "    \n",
    "    // Evento que se emite cuando se crea una nueva nota\n",
    "    event NoteCreated(uint256 indexed id, string title, uint256 timestamp);\n",
    "    \n",
    "    // Función para añadir una nueva nota\n",
    "    function addNote(string memory _title, string memory _content) public {\n",
    "        notes.push(Note(_title, _content, block.timestamp));\n",
    "        emit NoteCreated(notes.length - 1, _title, block.timestamp);\n",
    "    }\n",
    "    \n",
    "    // Función para obtener una nota por su ID\n",
    "    function getNote(uint256 _id) public view returns (string memory, string memory, uint256) {\n",
    "        require(_id < notes.length, \"Nota no encontrada\");\n",
    "        Note memory note = notes[_id];\n",
    "        return (note.title, note.content, note.timestamp);\n",
    "    }\n",
    "    \n",
    "    // Función para obtener el número total de notas\n",
    "    function getNoteCount() public view returns (uint256) {\n",
    "        return notes.length;\n",
    "    }\n",
    "}\n",
    "'''\n",
    "\n",
    "# Guardamos el código en un archivo\n",
    "with open('NotesApp.sol', 'w') as file:\n",
    "    file.write(solidity_code)\n",
    "    \n",
    "print(\"Contrato NotesApp guardado en 'NotesApp.sol'\")"
   ]
  },
  {
   "cell_type": "markdown",
   "metadata": {},
   "source": [
    "## 2. Compilando el contrato"
   ]
  },
  {
   "cell_type": "code",
   "execution_count": null,
   "metadata": {},
   "outputs": [],
   "source": [
    "# Importamos las bibliotecas necesarias\n",
    "from web3 import Web3\n",
    "from solcx import compile_standard, install_solc\n",
    "import json\n",
    "from datetime import datetime\n",
    "\n",
    "# Instalamos el compilador de Solidity\n",
    "install_solc('0.8.0')\n",
    "\n",
    "# Compilamos el contrato\n",
    "compiled_sol = compile_standard(\n",
    "    {\n",
    "        \"language\": \"Solidity\",\n",
    "        \"sources\": {\"NotesApp.sol\": {\"content\": solidity_code}},\n",
    "        \"settings\": {\n",
    "            \"outputSelection\": {\n",
    "                \"*\": {\"*\": [\"abi\", \"metadata\", \"evm.bytecode\"]}\n",
    "            }\n",
    "        },\n",
    "    },\n",
    "    solc_version=\"0.8.0\",\n",
    ")\n",
    "\n",
    "# Extraemos el bytecode y el ABI\n",
    "bytecode = compiled_sol[\"contracts\"][\"NotesApp.sol\"][\"NotesApp\"][\"evm\"][\"bytecode\"][\"object\"]\n",
    "abi = compiled_sol[\"contracts\"][\"NotesApp.sol\"][\"NotesApp\"][\"abi\"]\n",
    "\n",
    "# Guardamos el ABI para uso futuro\n",
    "with open('NotesApp_abi.json', 'w') as file:\n",
    "    json.dump(abi, file)\n",
    "    \n",
    "print(\"Contrato compilado correctamente\")"
   ]
  },
  {
   "cell_type": "markdown",
   "metadata": {},
   "source": [
    "## 3. Desplegando el contrato"
   ]
  },
  {
   "cell_type": "code",
   "execution_count": null,
   "metadata": {},
   "outputs": [],
   "source": [
    "# Conectamos con Ganache\n",
    "web3 = Web3(Web3.HTTPProvider(\"http://127.0.0.1:7545\"))\n",
    "print(f\"¿Conectado a Ganache? {web3.is_connected()}\")\n",
    "\n",
    "# Obtenemos la cuenta que usaremos para el despliegue\n",
    "cuenta = web3.eth.accounts[0]\n",
    "print(f\"Cuenta de despliegue: {cuenta}\")\n",
    "\n",
    "# Creamos el contrato\n",
    "NotesApp = web3.eth.contract(abi=abi, bytecode=bytecode)\n",
    "\n",
    "# Desplegamos el contrato\n",
    "tx_hash = NotesApp.constructor().transact({'from': cuenta})\n",
    "print(f\"Transacción enviada: {tx_hash.hex()}\")\n",
    "\n",
    "# Esperamos a que la transacción sea minada\n",
    "tx_receipt = web3.eth.wait_for_transaction_receipt(tx_hash)\n",
    "contract_address = tx_receipt.contractAddress\n",
    "print(f\"Contrato desplegado en: {contract_address}\")\n",
    "\n",
    "# Guardamos la dirección del contrato\n",
    "with open('NotesApp_address.txt', 'w') as file:\n",
    "    file.write(contract_address)\n",
    "\n",
    "# Creamos una instancia del contrato desplegado\n",
    "notes_app = web3.eth.contract(address=contract_address, abi=abi)"
   ]
  },
  {
   "cell_type": "markdown",
   "metadata": {},
   "source": [
    "## 4. Interactuando con la aplicación de notas"
   ]
  },
  {
   "cell_type": "code",
   "execution_count": null,
   "metadata": {},
   "outputs": [],
   "source": [
    "# Añadimos algunas notas\n",
    "tx_hash = notes_app.functions.addNote(\n",
    "    \"Clase de Smart Contracts\", \n",
    "    \"Hoy aprendí a crear contratos inteligentes con Python y Web3.py\"\n",
    ").transact({'from': cuenta})\n",
    "web3.eth.wait_for_transaction_receipt(tx_hash)\n",
    "print(\"Nota 1 añadida\")\n",
    "\n",
    "tx_hash = notes_app.functions.addNote(\n",
    "    \"Conceptos importantes\", \n",
    "    \"ABI, bytecode, transacciones, eventos, gas\"\n",
    ").transact({'from': cuenta})\n",
    "web3.eth.wait_for_transaction_receipt(tx_hash)\n",
    "print(\"Nota 2 añadida\")\n",
    "\n",
    "# Verificamos el número de notas\n",
    "note_count = notes_app.functions.getNoteCount().call()\n",
    "print(f\"Número total de notas: {note_count}\")"
   ]
  },
  {
   "cell_type": "markdown",
   "metadata": {},
   "source": [
    "## 5. Recuperando y mostrando las notas"
   ]
  },
  {
   "cell_type": "code",
   "execution_count": null,
   "metadata": {},
   "outputs": [],
   "source": [
    "# Función para convertir timestamp a fecha legible\n",
    "def timestamp_to_date(timestamp):\n",
    "    return datetime.fromtimestamp(timestamp).strftime('%Y-%m-%d %H:%M:%S')\n",
    "\n",
    "# Recuperamos y mostramos todas las notas\n",
    "print(\"\\n=== NOTAS GUARDADAS ===\\n\")\n",
    "note_count = notes_app.functions.getNoteCount().call()\n",
    "\n",
    "for i in range(note_count):\n",
    "    title, content, timestamp = notes_app.functions.getNote(i).call()\n",
    "    print(f\"Nota #{i+1}\")\n",
    "    print(f\"Título: {title}\")\n",
    "    print(f\"Contenido: {content}\")\n",
    "    print(f\"Fecha: {timestamp_to_date(timestamp)}\")\n",
    "    print(\"-\" * 30)"
   ]
  },
  {
   "cell_type": "markdown",
   "metadata": {},
   "source": [
    "## 6. Capturando eventos de creación de notas"
   ]
  },
  {
   "cell_type": "code",
   "execution_count": null,
   "metadata": {},
   "outputs": [],
   "source": [
    "# Añadimos una nueva nota\n",
    "tx_hash = notes_app.functions.addNote(\n",
    "    \"Proyecto final\", \n",
    "    \"Completé el proyecto NotesApp usando Smart Contracts\"\n",
    ").transact({'from': cuenta})\n",
    "tx_receipt = web3.eth.wait_for_transaction_receipt(tx_hash)\n",
    "\n",
    "# Capturamos el evento emitido\n",
    "log_entries = notes_app.events.NoteCreated().process_receipt(tx_receipt)\n",
    "event = log_entries[0]\n",
    "\n",
    "print(\"\\n=== EVENTO DE CREACIÓN DE NOTA ===\\n\")\n",
    "print(f\"ID de la nota: {event['args']['id']}\")\n",
    "print(f\"Título: {event['args']['title']}\")\n",
    "print(f\"Timestamp: {timestamp_to_date(event['args']['timestamp'])}\")\n",
    "print(f\"Bloque: {event['blockNumber']}\")\n",
    "print(f\"Transacción: {event['transactionHash'].hex()}\")"
   ]
  },
  {
   "cell_type": "markdown",
   "metadata": {},
   "source": [
    "## 7. Creando una interfaz simple para la aplicación"
   ]
  },
  {
   "cell_type": "code",
   "execution_count": null,
   "metadata": {},
   "outputs": [],
   "source": [
    "def notes_app_cli():\n",
    "    \"\"\"Interfaz de línea de comandos simple para NotesApp\"\"\"\n",
    "    print(\"\\n===== NotesApp =====\\n\")\n",
    "    print(\"1. Ver todas las notas\")\n",
    "    print(\"2. Añadir una nueva nota\")\n",
    "    print(\"3. Salir\")\n",
    "    \n",
    "    opcion = input(\"\\nSeleccione una opción (1-3): \")\n",
    "    \n",
    "    if opcion == \"1\":\n",
    "        # Ver todas las notas\n",
    "        note_count = notes_app.functions.getNoteCount().call()\n",
    "        if note_count == 0:\n",
    "            print(\"\\nNo hay notas guardadas.\")\n",
    "        else:\n",
    "            print(f\"\\nHay {note_count} notas guardadas:\\n\")\n",
    "            for i in range(note_count):\n",
    "                title, content, timestamp = notes_app.functions.getNote(i).call()\n",
    "                print(f\"Nota #{i+1}\")\n",
    "                print(f\"Título: {title}\")\n",
    "                print(f\"Contenido: {content}\")\n",
    "                print(f\"Fecha: {timestamp_to_date(timestamp)}\")\n",
    "                print(\"-\" * 30)\n",
    "    \n",
    "    elif opcion == \"2\":\n",
    "        # Añadir una nueva nota\n",
    "        title = input(\"\\nTítulo de la nota: \")\n",
    "        content = input(\"Contenido de la nota: \")\n",
    "        \n",
    "        tx_hash = notes_app.functions.addNote(title, content).transact({'from': cuenta})\n",
    "        tx_receipt = web3.eth.wait_for_transaction_receipt(tx_hash)\n",
    "        \n",
    "        print(\"\\nNota añadida correctamente.\")\n",
    "        print(f\"Transacción: {tx_hash.hex()}\")\n",
    "    \n",
    "    elif opcion == \"3\":\n",
    "        print(\"\\n¡Hasta pronto!\")\n",
    "        return False\n",
    "    \n",
    "    else:\n",
    "        print(\"\\nOpción no válida. Intente de nuevo.\")\n",
    "    \n",
    "    return True\n",
    "\n",
    "# Ejecutamos la interfaz una vez para demostración\n",
    "# En una aplicación real, esto estaría en un bucle\n",
    "notes_app_cli()"
   ]
  },
  {
   "cell_type": "markdown",
   "metadata": {},
   "source": [
    "## 8. Evaluación de conocimientos\n",
    "\n",
    "### Preguntas clave:\n",
    "\n",
    "1. **¿Cuál es la diferencia entre .call() y .transact()?**\n",
    "   - `.call()`: Lee datos del contrato sin modificar el estado de la blockchain. No consume gas y es instantáneo.\n",
    "   - `.transact()`: Modifica el estado de la blockchain, consume gas y requiere ser minada.\n",
    "\n",
    "2. **¿Qué es el ABI?**\n",
    "   - El ABI (Application Binary Interface) es la interfaz que define cómo interactuar con el contrato desde fuera de la blockchain.\n",
    "   - Describe las funciones, eventos y estructuras del contrato en formato JSON.\n",
    "   - Es esencial para que aplicaciones externas puedan comunicarse con el contrato.\n",
    "\n",
    "3. **¿Por qué los contratos son inmutables?**\n",
    "   - Una vez desplegados, el código de los contratos no puede ser modificado.\n",
    "   - Esto garantiza la confianza en el contrato, ya que las reglas no pueden cambiar.\n",
    "   - Para actualizar un contrato, generalmente se despliega uno nuevo y se migran los datos.\n",
    "   - La inmutabilidad es una característica fundamental de seguridad en blockchain."
   ]
  },
  {
   "cell_type": "markdown",
   "metadata": {},
   "source": [
    "## Lo aprendido en el proyecto\n",
    "\n",
    "- Desarrollamos un contrato completo con estructuras de datos y eventos\n",
    "- Implementamos funciones para añadir y recuperar notas\n",
    "- Desplegamos el contrato en una blockchain local (Ganache)\n",
    "- Interactuamos con el contrato desde Python usando Web3.py\n",
    "- Capturamos y procesamos eventos emitidos por el contrato\n",
    "- Creamos una interfaz simple para la aplicación\n",
    "- Aplicamos todos los conceptos aprendidos durante la semana"
   ]
  }
 ],
 "metadata": {
  "kernelspec": {
   "display_name": "Python 3",
   "language": "python",
   "name": "python3"
  },
  "language_info": {
   "codemirror_mode": {
    "name": "ipython",
    "version": 3
   },
   "file_extension": ".py",
   "mimetype": "text/x-python",
   "name": "python",
   "nbconvert_exporter": "python",
   "pygments_lexer": "ipython3",
   "version": "3.8.10"
  }
 },
 "nbformat": 4,
 "nbformat_minor": 4
}