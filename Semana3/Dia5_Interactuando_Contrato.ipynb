{
 "cells": [
  {
   "cell_type": "markdown",
   "metadata": {},
   "source": [
    "# Día 5: Interactuando con el contrato\n",
    "\n",
    "## Objetivo\n",
    "Aprender a interactuar con un Smart Contract desplegado, realizando operaciones de lectura y escritura."
   ]
  },
  {
   "cell_type": "markdown",
   "metadata": {},
   "source": [
    "## 1. Cargando el contrato desplegado"
   ]
  },
  {
   "cell_type": "code",
   "execution_count": null,
   "metadata": {},
   "outputs": [],
   "source": [
    "# Importamos las bibliotecas necesarias\n",
    "from web3 import Web3\n",
    "import json\n",
    "\n",
    "# Conectamos con Ganache\n",
    "web3 = Web3(Web3.HTTPProvider(\"http://127.0.0.1:7545\"))\n",
    "print(f\"¿Conectado a Ganache? {web3.is_connected()}\")\n",
    "\n",
    "# Cargamos la dirección del contrato\n",
    "with open('contract_address.txt', 'r') as file:\n",
    "    contract_address = file.read().strip()\n",
    "\n",
    "# Cargamos el ABI del contrato\n",
    "with open('SimpleStorage_abi.json', 'r') as file:\n",
    "    abi = json.load(file)\n",
    "\n",
    "# Creamos una instancia del contrato\n",
    "contract = web3.eth.contract(address=contract_address, abi=abi)\n",
    "print(\"Contrato cargado correctamente.\")"
   ]
  },
  {
   "cell_type": "markdown",
   "metadata": {},
   "source": [
    "## 2. Leyendo datos del contrato (.call)"
   ]
  },
  {
   "cell_type": "code",
   "execution_count": null,
   "metadata": {},
   "outputs": [],
   "source": [
    "# Leemos el valor almacenado actualmente\n",
    "valor_actual = contract.functions.get().call()\n",
    "print(f\"Valor almacenado actualmente: {valor_actual}\")"
   ]
  },
  {
   "cell_type": "markdown",
   "metadata": {},
   "source": [
    "## 3. Escribiendo datos en el contrato (.transact)"
   ]
  },
  {
   "cell_type": "code",
   "execution_count": null,
   "metadata": {},
   "outputs": [],
   "source": [
    "# Obtenemos la cuenta que usaremos para la transacción\n",
    "cuenta = web3.eth.accounts[0]\n",
    "\n",
    "# Establecemos un nuevo valor (42)\n",
    "tx_hash = contract.functions.set(42).transact({'from': cuenta})\n",
    "print(f\"Transacción enviada: {tx_hash.hex()}\")\n",
    "\n",
    "# Esperamos a que la transacción sea minada\n",
    "tx_receipt = web3.eth.wait_for_transaction_receipt(tx_hash)\n",
    "print(f\"Transacción confirmada en el bloque: {tx_receipt.blockNumber}\")\n",
    "\n",
    "# Verificamos que el valor se haya actualizado\n",
    "nuevo_valor = contract.functions.get().call()\n",
    "print(f\"Nuevo valor almacenado: {nuevo_valor}\")"
   ]
  },
  {
   "cell_type": "markdown",
   "metadata": {},
   "source": [
    "## 4. Diferencia entre .call() y .transact()\n",
    "\n",
    "### .call()\n",
    "- Para leer datos del contrato\n",
    "- No modifica el estado de la blockchain\n",
    "- No consume gas (es gratis)\n",
    "- No requiere confirmación (es instantáneo)\n",
    "\n",
    "### .transact()\n",
    "- Para modificar datos del contrato\n",
    "- Modifica el estado de la blockchain\n",
    "- Consume gas (tiene un costo)\n",
    "- Requiere ser minada y confirmada"
   ]
  },
  {
   "cell_type": "markdown",
   "metadata": {},
   "source": [
    "## 5. Transacciones con parámetros adicionales"
   ]
  },
  {
   "cell_type": "code",
   "execution_count": null,
   "metadata": {},
   "outputs": [],
   "source": [
    "# Enviamos una transacción con parámetros adicionales\n",
    "tx_hash = contract.functions.set(100).transact({\n",
    "    'from': cuenta,\n",
    "    'gas': 100000,  # Límite de gas\n",
    "    'gasPrice': web3.to_wei('50', 'gwei')  # Precio del gas\n",
    "})\n",
    "\n",
    "# Esperamos la confirmación\n",
    "tx_receipt = web3.eth.wait_for_transaction_receipt(tx_hash)\n",
    "print(f\"Transacción confirmada. Gas usado: {tx_receipt.gasUsed}\")\n",
    "\n",
    "# Verificamos el nuevo valor\n",
    "nuevo_valor = contract.functions.get().call()\n",
    "print(f\"Nuevo valor almacenado: {nuevo_valor}\")"
   ]
  },
  {
   "cell_type": "markdown",
   "metadata": {},
   "source": [
    "## Lo aprendido hoy\n",
    "\n",
    "- Cargamos un contrato desplegado usando su dirección y ABI\n",
    "- Leímos datos del contrato usando el método `.call()`\n",
    "- Modificamos datos del contrato usando el método `.transact()`\n",
    "- Entendimos la diferencia entre `.call()` y `.transact()`\n",
    "- Aprendimos a especificar parámetros adicionales en las transacciones"
   ]
  }
 ],
 "metadata": {
  "kernelspec": {
   "display_name": "Python 3",
   "language": "python",
   "name": "python3"
  },
  "language_info": {
   "codemirror_mode": {
    "name": "ipython",
    "version": 3
   },
   "file_extension": ".py",
   "mimetype": "text/x-python",
   "name": "python",
   "nbconvert_exporter": "python",
   "pygments_lexer": "ipython3",
   "version": "3.8.10"
  }
 },
 "nbformat": 4,
 "nbformat_minor": 4
}