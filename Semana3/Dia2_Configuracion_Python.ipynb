{
 "cells": [
  {
   "cell_type": "markdown",
   "metadata": {},
   "source": [
    "# Día 2: Configuración en Python\n",
    "\n",
    "## Objetivo\n",
    "Configurar el entorno de desarrollo para trabajar con Smart Contracts usando Python y Web3.py."
   ]
  },
  {
   "cell_type": "markdown",
   "metadata": {},
   "source": [
    "## 1. Instalación de Web3.py\n",
    "\n",
    "Web3.py es la biblioteca principal para interactuar con la blockchain de Ethereum desde Python. Vamos a instalarla usando pip:"
   ]
  },
  {
   "cell_type": "code",
   "execution_count": null,
   "metadata": {},
   "outputs": [],
   "source": [
    "# Instalamos Web3.py\n",
    "!pip install web3"
   ]
  },
  {
   "cell_type": "markdown",
   "metadata": {},
   "source": [
    "También necesitaremos instalar `solcx` para compilar contratos en Solidity:"
   ]
  },
  {
   "cell_type": "code",
   "execution_count": null,
   "metadata": {},
   "outputs": [],
   "source": [
    "# Instalamos solcx para compilar contratos en Solidity\n",
    "!pip install py-solc-x"
   ]
  },
  {
   "cell_type": "markdown",
   "metadata": {},
   "source": [
    "## 2. Configuración de Ganache\n",
    "\n",
    "Ganache es un blockchain personal para desarrollo de Ethereum que se ejecuta en tu máquina local. Permite probar contratos inteligentes sin gastar Ether real.\n",
    "\n",
    "### Instalación de Ganache\n",
    "\n",
    "1. Descarga Ganache desde [https://trufflesuite.com/ganache/](https://trufflesuite.com/ganache/)\n",
    "2. Instala y ejecuta Ganache\n",
    "3. Crea un nuevo workspace (\"Quickstart\" es suficiente para empezar)\n",
    "\n",
    "Una vez que Ganache esté en ejecución, verás una lista de 10 cuentas con 100 ETH cada una y la dirección del servidor RPC (por defecto: http://127.0.0.1:7545)."
   ]
  },
  {
   "cell_type": "markdown",
   "metadata": {},
   "source": [
    "## 3. Conexión a Ganache con Web3.py\n",
    "\n",
    "Ahora vamos a conectar Python con nuestra blockchain local usando Web3.py:"
   ]
  },
  {
   "cell_type": "code",
   "execution_count": null,
   "metadata": {},
   "outputs": [],
   "source": [
    "# Importamos la biblioteca Web3\n",
    "from web3 import Web3\n",
    "\n",
    "# Conectamos con Ganache (asegúrate de que Ganache esté en ejecución)\n",
    "web3 = Web3(Web3.HTTPProvider(\"http://127.0.0.1:7545\"))\n",
    "\n",
    "# Verificamos la conexión\n",
    "print(f\"¿Conectado a Ganache? {web3.is_connected()}\")"
   ]
  },
  {
   "cell_type": "markdown",
   "metadata": {},
   "source": [
    "Si todo está configurado correctamente, deberías ver `¿Conectado a Ganache? True`."
   ]
  },
  {
   "cell_type": "markdown",
   "metadata": {},
   "source": [
    "## 4. Explorando el objeto Web3\n",
    "\n",
    "El objeto `web3` es la puerta de entrada a todas las funcionalidades de Ethereum. Vamos a explorar algunas de sus propiedades y métodos más importantes:"
   ]
  },
  {
   "cell_type": "code",
   "execution_count": null,
   "metadata": {},
   "outputs": [],
   "source": [
    "# Obtenemos el número del bloque actual\n",
    "print(f\"Bloque actual: {web3.eth.block_number}\")\n",
    "\n",
    "# Listamos las cuentas disponibles\n",
    "print(\"\\nCuentas disponibles:\")\n",
    "for i, cuenta in enumerate(web3.eth.accounts):\n",
    "    print(f\"Cuenta {i}: {cuenta}\")\n",
    "\n",
    "# Obtenemos el balance de la primera cuenta (en Wei)\n",
    "balance_wei = web3.eth.get_balance(web3.eth.accounts[0])\n",
    "# Convertimos de Wei a Ether (1 ETH = 10^18 Wei)\n",
    "balance_eth = web3.from_wei(balance_wei, 'ether')\n",
    "print(f\"\\nBalance de la primera cuenta: {balance_eth} ETH\")"
   ]
  },
  {
   "cell_type": "markdown",
   "metadata": {},
   "source": [
    "## 5. Realizando una transacción simple\n",
    "\n",
    "Vamos a realizar una transacción simple entre dos cuentas:"
   ]
  },
  {
   "cell_type": "code",
   "execution_count": null,
   "metadata": {},
   "outputs": [],
   "source": [
    "# Definimos las cuentas de origen y destino\n",
    "cuenta_origen = web3.eth.accounts[0]\n",
    "cuenta_destino = web3.eth.accounts[1]\n",
    "\n",
    "# Obtenemos los balances iniciales\n",
    "balance_origen_inicial = web3.eth.get_balance(cuenta_origen)\n",
    "balance_destino_inicial = web3.eth.get_balance(cuenta_destino)\n",
    "\n",
    "print(f\"Balance inicial de cuenta origen: {web3.from_wei(balance_origen_inicial, 'ether')} ETH\")\n",
    "print(f\"Balance inicial de cuenta destino: {web3.from_wei(balance_destino_inicial, 'ether')} ETH\")\n",
    "\n",
    "# Creamos la transacción\n",
    "tx_hash = web3.eth.send_transaction({\n",
    "    'from': cuenta_origen,\n",
    "    'to': cuenta_destino,\n",
    "    'value': web3.to_wei(1, 'ether')  # Enviamos 1 ETH\n",
    "})\n",
    "\n",
    "# Esperamos a que la transacción sea minada\n",
    "tx_receipt = web3.eth.wait_for_transaction_receipt(tx_hash)\n",
    "print(f\"\\nTransacción completada: {tx_receipt.transactionHash.hex()}\")\n",
    "\n",
    "# Verificamos los nuevos balances\n",
    "balance_origen_final = web3.eth.get_balance(cuenta_origen)\n",
    "balance_destino_final = web3.eth.get_balance(cuenta_destino)\n",
    "\n",
    "print(f\"\\nBalance final de cuenta origen: {web3.from_wei(balance_origen_final, 'ether')} ETH\")\n",
    "print(f\"Balance final de cuenta destino: {web3.from_wei(balance_destino_final, 'ether')} ETH\")"
   ]
  },
  {
   "cell_type": "markdown",
   "metadata": {},
   "source": [
    "## 6. Funciones principales de Web3.py\n",
    "\n",
    "### Módulo `web3.eth`\n",
    "- `web3.eth.accounts`: Lista de cuentas disponibles\n",
    "- `web3.eth.get_balance(address)`: Obtiene el balance de una dirección\n",
    "- `web3.eth.send_transaction(tx)`: Envía una transacción\n",
    "- `web3.eth.get_transaction(tx_hash)`: Obtiene información de una transacción\n",
    "- `web3.eth.get_block(block_identifier)`: Obtiene información de un bloque\n",
    "\n",
    "### Conversiones de unidades\n",
    "- `web3.to_wei(value, unit)`: Convierte de una unidad a Wei\n",
    "- `web3.from_wei(value, unit)`: Convierte de Wei a otra unidad\n",
    "\n",
    "### Utilidades\n",
    "- `web3.is_address(address)`: Verifica si una dirección es válida\n",
    "- `web3.keccak(text)`: Calcula el hash Keccak-256 de un texto"
   ]
  },
  {
   "cell_type": "markdown",
   "metadata": {},
   "source": [
    "## Lo aprendido hoy\n",
    "\n",
    "- Instalamos y configuramos Web3.py para interactuar con Ethereum\n",
    "- Configuramos Ganache como blockchain local para desarrollo\n",
    "- Conectamos Python con Ganache usando Web3.py\n",
    "- Exploramos las funciones básicas del objeto `web3`\n",
    "- Realizamos una transacción simple entre cuentas\n",
    "\n",
    "En el próximo día, aprenderemos a crear y compilar un Smart Contract en Solidity usando Python."
   ]
  }
 ],
 "metadata": {
  "kernelspec": {
   "display_name": "Python 3",
   "language": "python",
   "name": "python3"
  },
  "language_info": {
   "codemirror_mode": {
    "name": "ipython",
    "version": 3
   },
   "file_extension": ".py",
   "mimetype": "text/x-python",
   "name": "python",
   "nbconvert_exporter": "python",
   "pygments_lexer": "ipython3",
   "version": "3.8.10"
  }
 },
 "nbformat": 4,
 "nbformat_minor": 4
}