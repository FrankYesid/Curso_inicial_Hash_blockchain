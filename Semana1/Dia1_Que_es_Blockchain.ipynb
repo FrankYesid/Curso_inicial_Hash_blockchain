{
 "cells": [
  {
   "cell_type": "markdown",
   "metadata": {},
   "source": [
    "# 📘 Semana 1 - Día 1: ¿Qué es Blockchain?\n",
    "\n",
    "---\n",
    "\n",
    "## 📋 Metadatos del Curso\n",
    "\n",
    "- **Nivel:** Introductorio\n",
    "- **Tiempo diario:** 20 minutos\n",
    "- **Semana:** 1 — Fundamentos de Blockchain\n",
    "- **Día:** 1 de 5 (+ 1 opcional)\n",
    "\n",
    "---\n",
    "\n",
    "## 🎯 Objetivo del Día\n",
    "\n",
    "Al finalizar esta sesión, serás capaz de:\n",
    "- Definir qué es blockchain con tus propias palabras\n",
    "- Identificar los componentes básicos de un bloque\n",
    "- Crear una representación simple de un bloque usando Python\n",
    "\n",
    "---"
   ]
  },
  {
   "cell_type": "markdown",
   "metadata": {},
   "source": [
    "## 📖 Contenido Teórico\n",
    "\n",
    "### ¿Qué es Blockchain?\n",
    "\n",
    "**Definición académica:**  \n",
    "Blockchain (cadena de bloques) es una estructura de datos distribuida y descentralizada que almacena información en bloques enlazados criptográficamente. Cada bloque contiene un conjunto de transacciones o datos, y está vinculado al bloque anterior mediante un hash criptográfico, creando una cadena inmutable y verificable.\n",
    "\n",
    "**Analogía sencilla:**  \n",
    "Imagina un **libro contable compartido** que vive simultáneamente en miles de computadoras. Cada página del libro (bloque) contiene registros de transacciones y está sellada con un código único. Si alguien intenta modificar una página antigua, el sello se rompe y todos lo notan inmediatamente. Nadie puede borrar o alterar el pasado sin que sea evidente.\n",
    "\n",
    "### 🔑 Mini-Glosario de Conceptos Clave\n",
    "\n",
    "| Término | Definición |\n",
    "|---------|------------|\n",
    "| **Bloque** | Contenedor de datos que incluye información sobre transacciones, timestamp y referencias al bloque anterior |\n",
    "| **Hash** | Función criptográfica que convierte datos de cualquier tamaño en una cadena de caracteres de longitud fija (huella digital única) |\n",
    "| **Nodo** | Computadora que participa en la red blockchain, almacenando una copia completa o parcial de la cadena |\n",
    "| **Consenso** | Mecanismo por el cual los nodos de la red acuerdan el estado válido de la blockchain |\n",
    "| **Descentralización** | Distribución del control y almacenamiento entre múltiples participantes, sin autoridad central única |\n",
    "\n",
    "---"
   ]
  },
  {
   "cell_type": "markdown",
   "metadata": {},
   "source": [
    "## 💻 Código de Ejemplo: Crear un Bloque Simple\n",
    "\n",
    "Vamos a representar un bloque básico usando un **diccionario de Python**. Este es el primer paso para entender cómo se estructura la información en blockchain."
   ]
  },
  {
   "cell_type": "code",
   "execution_count": null,
   "metadata": {},
   "outputs": [],
   "source": [
    "# Ejemplo: Crear un bloque simple usando un diccionario\n",
    "\n",
    "# Un bloque es esencialmente un contenedor de información\n",
    "bloque_genesis = {\n",
    "    'index': 0,                          # Posición del bloque en la cadena (el primero es 0)\n",
    "    'timestamp': '2025-10-16 23:00:00',  # Momento en que se creó el bloque\n",
    "    'data': 'Bloque Génesis',            # Información almacenada (puede ser transacciones, mensajes, etc.)\n",
    "    'previous_hash': '0',                # Hash del bloque anterior (el primero no tiene predecesor, por eso es '0')\n",
    "    'hash': 'abc123...'                  # Hash único de este bloque (lo calcularemos en días posteriores)\n",
    "}\n",
    "\n",
    "# Mostrar el bloque\n",
    "print(\"=\" * 50)\n",
    "print(\"BLOQUE GÉNESIS (Primer bloque de la cadena)\")\n",
    "print(\"=\" * 50)\n",
    "\n",
    "for clave, valor in bloque_genesis.items():\n",
    "    print(f\"{clave.upper():15} : {valor}\")\n",
    "\n",
    "print(\"=\" * 50)"
   ]
  },
  {
   "cell_type": "markdown",
   "metadata": {},
   "source": [
    "### 🔍 Explicación del Código\n",
    "\n",
    "1. **`index`**: Número secuencial que indica la posición del bloque en la cadena. El primer bloque (génesis) tiene index 0.\n",
    "\n",
    "2. **`timestamp`**: Marca de tiempo que registra cuándo se creó el bloque. Importante para ordenar eventos.\n",
    "\n",
    "3. **`data`**: El contenido real del bloque. Puede ser texto, transacciones, contratos, etc.\n",
    "\n",
    "4. **`previous_hash`**: Referencia criptográfica al bloque anterior. Esto es lo que \"encadena\" los bloques. El bloque génesis usa '0' porque no tiene predecesor.\n",
    "\n",
    "5. **`hash`**: Identificador único del bloque (por ahora es un placeholder; aprenderemos a calcularlo en el Día 3).\n",
    "\n",
    "---"
   ]
  },
  {
   "cell_type": "markdown",
   "metadata": {},
   "source": [
    "## ✏️ Ejercicio Práctico\n",
    "\n",
    "**Instrucciones:**  \n",
    "Crea un segundo bloque llamado `bloque_1` con los siguientes requisitos:\n",
    "\n",
    "- `index`: 1 (es el segundo bloque)\n",
    "- `timestamp`: Usa la fecha y hora actual (puedes inventarla en formato texto)\n",
    "- `data`: Escribe un mensaje personalizado, por ejemplo: \"Primera transacción: Juan paga 10 BTC a María\"\n",
    "- `previous_hash`: Debe ser el hash del bloque anterior (usa 'abc123...' que es el hash del bloque génesis)\n",
    "- `hash`: Inventa un hash temporal (ej: 'def456...')\n",
    "\n",
    "Luego, imprime el bloque de forma legible.\n",
    "\n",
    "**💡 Pista:** Copia la estructura del `bloque_genesis` y modifica los valores."
   ]
  },
  {
   "cell_type": "code",
   "execution_count": null,
   "metadata": {},
   "outputs": [],
   "source": [
    "# TU CÓDIGO AQUÍ\n",
    "# Crea el bloque_1 siguiendo las instrucciones\n",
    "\n",
    "bloque_1 = {\n",
    "    # Completa los campos aquí\n",
    "}\n",
    "\n",
    "# Imprime el bloque\n"
   ]
  },
  {
   "cell_type": "markdown",
   "metadata": {},
   "source": [
    "---\n",
    "\n",
    "## ✅ Solución — NO VER hasta intentar\n",
    "\n",
    "<details>\n",
    "<summary>Haz clic para ver la solución</summary>"
   ]
  },
  {
   "cell_type": "code",
   "execution_count": null,
   "metadata": {},
   "outputs": [],
   "source": [
    "# SOLUCIÓN COMENTADA\n",
    "\n",
    "# Creamos el segundo bloque de la cadena\n",
    "bloque_1 = {\n",
    "    'index': 1,                                      # Es el segundo bloque (índice 1)\n",
    "    'timestamp': '2025-10-16 23:05:00',              # Timestamp posterior al bloque génesis\n",
    "    'data': 'Primera transacción: Juan paga 10 BTC a María',  # Datos de ejemplo\n",
    "    'previous_hash': 'abc123...',                    # Referencia al hash del bloque génesis\n",
    "    'hash': 'def456...'                              # Hash único de este bloque (temporal)\n",
    "}\n",
    "\n",
    "# Mostramos el bloque de forma estructurada\n",
    "print(\"=\" * 50)\n",
    "print(\"BLOQUE #1\")\n",
    "print(\"=\" * 50)\n",
    "\n",
    "for clave, valor in bloque_1.items():\n",
    "    print(f\"{clave.upper():15} : {valor}\")\n",
    "\n",
    "print(\"=\" * 50)\n",
    "\n",
    "# Explicación adicional:\n",
    "# - El 'previous_hash' conecta este bloque con el anterior\n",
    "# - Si alguien modifica el bloque génesis, su hash cambiaría\n",
    "# - Esto haría que el 'previous_hash' de bloque_1 ya no coincida\n",
    "# - Así es como se detectan alteraciones en la cadena"
   ]
  },
  {
   "cell_type": "markdown",
   "metadata": {},
   "source": [
    "</details>\n",
    "\n",
    "---"
   ]
  },
  {
   "cell_type": "markdown",
   "metadata": {},
   "source": [
    "## 📝 Autoevaluación — Respuestas al final de la sección\n",
    "\n",
    "Responde las siguientes preguntas para verificar tu comprensión:\n",
    "\n",
    "### Pregunta 1\n",
    "**¿Qué característica hace que blockchain sea \"inmutable\"?**\n",
    "\n",
    "A) Los bloques están encriptados con contraseñas  \n",
    "B) Cada bloque contiene el hash del bloque anterior, creando una cadena verificable  \n",
    "C) Solo el administrador puede modificar los bloques  \n",
    "D) Los datos se almacenan en la nube  \n",
    "\n",
    "### Pregunta 2\n",
    "**Verdadero o Falso: El bloque génesis tiene un `previous_hash` que apunta al bloque -1.**\n",
    "\n",
    "A) Verdadero  \n",
    "B) Falso  \n",
    "\n",
    "### Pregunta 3\n",
    "**¿Cuál de los siguientes NO es un componente típico de un bloque?**\n",
    "\n",
    "A) Index  \n",
    "B) Timestamp  \n",
    "C) Password  \n",
    "D) Hash  \n",
    "\n",
    "---\n",
    "\n",
    "### 🔑 Respuestas\n",
    "\n",
    "1. **Respuesta: B**  \n",
    "   *Explicación:* La inmutabilidad proviene del encadenamiento criptográfico. Si modificas un bloque antiguo, su hash cambia, rompiendo la cadena y haciendo evidente la alteración.\n",
    "\n",
    "2. **Respuesta: B (Falso)**  \n",
    "   *Explicación:* El bloque génesis es el primero de la cadena, por lo que no tiene bloque anterior. Su `previous_hash` suele ser '0' o un valor convencional.\n",
    "\n",
    "3. **Respuesta: C**  \n",
    "   *Explicación:* Los bloques no contienen contraseñas. La seguridad viene de la criptografía (hashes) y el consenso distribuido, no de passwords tradicionales.\n",
    "\n",
    "---"
   ]
  },
  {
   "cell_type": "markdown",
   "metadata": {},
   "source": [
    "## 🎯 Resumen del Día 1\n",
    "\n",
    "Hoy aprendiste:\n",
    "- ✅ La definición de blockchain como libro contable distribuido\n",
    "- ✅ Los 5 conceptos clave: Bloque, Hash, Nodo, Consenso, Descentralización\n",
    "- ✅ Cómo representar un bloque simple en Python usando diccionarios\n",
    "- ✅ La importancia del campo `previous_hash` para encadenar bloques\n",
    "\n",
    "### 📚 Próximo Paso\n",
    "En el **Día 2**, profundizaremos en la **estructura detallada de un bloque**, aprenderemos a usar timestamps automáticos con Python y agregaremos el campo `nonce` para entender su rol en la minería.\n",
    "\n",
    "---\n",
    "\n",
    "**¡Excelente trabajo! 🚀**  \n",
    "*Recuerda: La blockchain es solo una estructura de datos inteligente. Lo que la hace poderosa es cómo se usa en sistemas distribuidos.*"
   ]
  }
 ],
 "metadata": {
  "kernelspec": {
   "display_name": "Python 3",
   "language": "python",
   "name": "python3"
  },
  "language_info": {
   "codemirror_mode": {
    "name": "ipython",
    "version": 3
   },
   "file_extension": ".py",
   "mimetype": "text/x-python",
   "name": "python",
   "nbconvert_exporter": "python",
   "pygments_lexer": "ipython3",
   "version": "3.10.0"
  }
 },
 "nbformat": 4,
 "nbformat_minor": 4
}
